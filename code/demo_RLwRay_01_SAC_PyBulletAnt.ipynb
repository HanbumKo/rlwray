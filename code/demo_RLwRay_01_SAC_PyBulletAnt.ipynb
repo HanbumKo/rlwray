{
 "cells": [
  {
   "cell_type": "markdown",
   "metadata": {},
   "source": [
    "# Synchronous SAC with PyBullet Ant"
   ]
  },
  {
   "cell_type": "code",
   "execution_count": 1,
   "metadata": {},
   "outputs": [
    {
     "name": "stdout",
     "output_type": "stream",
     "text": [
      "Packaged loaded. TF version is [1.14.0].\n"
     ]
    }
   ],
   "source": [
    "import datetime,gym,os,pybullet_envs,time,os,psutil,ray\n",
    "import numpy as np\n",
    "import tensorflow as tf\n",
    "from util import gpu_sess,suppress_tf_warning\n",
    "from sac import ReplayBuffer,create_sac_model,create_sac_graph\n",
    "np.set_printoptions(precision=2)\n",
    "suppress_tf_warning() # suppress warning \n",
    "gym.logger.set_level(40) # gym logger \n",
    "print (\"Packaged loaded. TF version is [%s].\"%(tf.__version__))"
   ]
  },
  {
   "cell_type": "markdown",
   "metadata": {},
   "source": [
    "### Rollout Worker"
   ]
  },
  {
   "cell_type": "code",
   "execution_count": 2,
   "metadata": {},
   "outputs": [
    {
     "name": "stdout",
     "output_type": "stream",
     "text": [
      "Rollout worker classes (with and without RAY) ready.\n"
     ]
    }
   ],
   "source": [
    "class RolloutWorkerClass(object):\n",
    "    \"\"\"\n",
    "    Worker without RAY (for update purposes)\n",
    "    \"\"\"\n",
    "    def __init__(self,lr=1e-3,gamma=0.99,alpha=0.1,polyak=0.995,seed=1):\n",
    "        self.seed = seed\n",
    "        # Each worker should maintain its own environment\n",
    "        import pybullet_envs,gym\n",
    "        from util import suppress_tf_warning\n",
    "        suppress_tf_warning() # suppress TF warnings\n",
    "        gym.logger.set_level(40) # gym logger \n",
    "        \n",
    "        self.env = gym.make('AntBulletEnv-v0')\n",
    "        odim,adim = self.env.observation_space.shape[0],self.env.action_space.shape[0]\n",
    "        self.odim = odim\n",
    "        self.adim = adim\n",
    "        \n",
    "        # Create SAC model and computational graph \n",
    "        self.model,self.sess = create_sac_model(odim=self.odim,adim=self.adim)\n",
    "        self.step_ops,self.target_init = \\\n",
    "            create_sac_graph(self.model,lr=lr,gamma=gamma,alpha=alpha,polyak=polyak)\n",
    "        \n",
    "        # Initialize model \n",
    "        tf.set_random_seed(self.seed)\n",
    "        np.random.seed(self.seed)\n",
    "        self.sess.run(tf.global_variables_initializer())\n",
    "        self.sess.run(self.target_init)\n",
    "    \n",
    "    def get_action(self,o,deterministic=False):\n",
    "        act_op = self.model['mu'] if deterministic else self.model['pi']\n",
    "        return self.sess.run(act_op, feed_dict={self.model['o_ph']:o.reshape(1,-1)})[0]\n",
    "\n",
    "    def get_weights(self):\n",
    "        \"\"\"\n",
    "        Get weights\n",
    "        \"\"\"\n",
    "        weight_vals = self.sess.run(self.model['main_vars'])\n",
    "        return weight_vals\n",
    "    \n",
    "@ray.remote\n",
    "class RayRolloutWorkerClass(object):\n",
    "    \"\"\"\n",
    "    Rollout Worker with RAY\n",
    "    \"\"\"\n",
    "    def __init__(self,worker_id=0,ep_len_rollout=1000):\n",
    "        # Parse\n",
    "        self.worker_id = worker_id\n",
    "        self.ep_len_rollout = ep_len_rollout\n",
    "        # Each worker should maintain its own environment\n",
    "        import pybullet_envs,gym\n",
    "        from util import suppress_tf_warning\n",
    "        suppress_tf_warning() # suppress TF warnings\n",
    "        gym.logger.set_level(40) # gym logger \n",
    "\n",
    "        self.env = gym.make('AntBulletEnv-v0')\n",
    "        odim,adim = self.env.observation_space.shape[0],self.env.action_space.shape[0]\n",
    "        self.odim = odim\n",
    "        self.adim = adim\n",
    "        # Replay buffers to pass\n",
    "        self.o_buffer = np.zeros((self.ep_len_rollout,self.odim))\n",
    "        self.a_buffer = np.zeros((self.ep_len_rollout,self.adim))\n",
    "        self.r_buffer = np.zeros((self.ep_len_rollout))\n",
    "        self.o2_buffer = np.zeros((self.ep_len_rollout,self.odim))\n",
    "        self.d_buffer = np.zeros((self.ep_len_rollout))\n",
    "        # Create SAC model\n",
    "        self.model,self.sess = create_sac_model(odim=self.odim,adim=self.adim)\n",
    "        self.sess.run(tf.global_variables_initializer())\n",
    "        print (\"Ray Worker [%d] Ready.\"%(self.worker_id))\n",
    "        \n",
    "        # Flag to initialize assign operations for 'set_weights()'\n",
    "        self.FIRST_SET_FLAG = True\n",
    "        \n",
    "    def get_action(self,o,deterministic=False):\n",
    "        act_op = self.model['mu'] if deterministic else self.model['pi']\n",
    "        return self.sess.run(act_op, feed_dict={self.model['o_ph']:o.reshape(1,-1)})[0]\n",
    "    \n",
    "    def set_weights(self,weight_vals):\n",
    "        \"\"\"\n",
    "        Set weights\n",
    "        \"\"\"\n",
    "        if self.FIRST_SET_FLAG:\n",
    "            self.FIRST_SET_FLAG = False\n",
    "            self.assign_placeholders = []\n",
    "            self.assign_ops = []\n",
    "            for w_idx,weight_tf_var in enumerate(self.model['main_vars']):\n",
    "                a = weight_tf_var\n",
    "                assign_placeholder = tf.placeholder(a.dtype, shape=a.get_shape())\n",
    "                assign_op = a.assign(assign_placeholder)\n",
    "                self.assign_placeholders.append(assign_placeholder)\n",
    "                self.assign_ops.append(assign_op)\n",
    "                \n",
    "        for w_idx,weight_tf_var in enumerate(self.model['main_vars']):\n",
    "            # Naive assign\n",
    "            # self.sess.run(tf.assign(weight_tf_var,weight_vals[w_idx]))\n",
    "            \n",
    "            # Memory-leakage-free assign (hopefully)\n",
    "            self.sess.run(self.assign_ops[w_idx],\n",
    "                          {self.assign_placeholders[w_idx]:weight_vals[w_idx]})\n",
    "            \n",
    "    def rollout(self):\n",
    "        \"\"\"\n",
    "        Rollout\n",
    "        \"\"\"\n",
    "        o = self.env.reset() # reset environment\n",
    "        # Loop\n",
    "        for t in range(ep_len_rollout):\n",
    "            a = self.get_action(o,deterministic=False) \n",
    "            o2,r,d,_ = self.env.step(a)\n",
    "            # Append\n",
    "            self.o_buffer[t,:] = o\n",
    "            self.a_buffer[t,:] = a\n",
    "            self.r_buffer[t] = r\n",
    "            self.o2_buffer[t,:] = o2\n",
    "            self.d_buffer[t] = d\n",
    "            # Save next state \n",
    "            o = o2\n",
    "            if d: o = self.env.reset() # reset when done \n",
    "        return self.o_buffer,self.a_buffer,self.r_buffer,self.o2_buffer,self.d_buffer\n",
    "    \n",
    "print (\"Rollout worker classes (with and without RAY) ready.\")"
   ]
  },
  {
   "cell_type": "markdown",
   "metadata": {},
   "source": [
    "### Initilize PyBullet Ant Environment"
   ]
  },
  {
   "cell_type": "code",
   "execution_count": 3,
   "metadata": {},
   "outputs": [
    {
     "name": "stdout",
     "output_type": "stream",
     "text": [
      "[AntBulletEnv-v0] ready.\n"
     ]
    }
   ],
   "source": [
    "env_name = 'AntBulletEnv-v0'\n",
    "test_env = gym.make(env_name)\n",
    "_ = test_env.render(mode='human') # enable rendering on test_env\n",
    "_ = test_env.reset()\n",
    "for _ in range(3): # dummy run for proper rendering \n",
    "    a = test_env.action_space.sample()\n",
    "    o,r,d,_ = test_env.step(a)\n",
    "    time.sleep(0.01)\n",
    "print (\"[%s] ready.\"%(env_name))"
   ]
  },
  {
   "cell_type": "code",
   "execution_count": 4,
   "metadata": {},
   "outputs": [],
   "source": [
    "odim,adim = o.shape[0],a.shape[0]"
   ]
  },
  {
   "cell_type": "code",
   "execution_count": 5,
   "metadata": {},
   "outputs": [],
   "source": [
    "total_steps,evaluate_every = 500,20\n",
    "ep_len_rollout = 1000\n",
    "batch_size,update_count = 128,5000\n",
    "num_eval,max_ep_len_eval = 3,1e3"
   ]
  },
  {
   "cell_type": "markdown",
   "metadata": {},
   "source": [
    "### Initialize Workers"
   ]
  },
  {
   "cell_type": "code",
   "execution_count": 6,
   "metadata": {},
   "outputs": [
    {
     "name": "stderr",
     "output_type": "stream",
     "text": [
      "2020-06-21 02:20:40,544\tWARNING services.py:586 -- setpgrp failed, processes may not be cleaned up properly: [Errno 1] Operation not permitted.\n",
      "2020-06-21 02:20:40,547\tINFO resource_spec.py:212 -- Starting Ray with 4.98 GiB memory available for workers and up to 10.0 GiB for objects. You can adjust these settings with ray.init(memory=<bytes>, object_store_memory=<bytes>).\n",
      "2020-06-21 02:20:40,950\tINFO services.py:1078 -- View the Ray dashboard at \u001b[1m\u001b[32mlocalhost:8265\u001b[39m\u001b[22m\n"
     ]
    },
    {
     "name": "stdout",
     "output_type": "stream",
     "text": [
      "RAY initialized with [15] cpus and [15] workers.\n"
     ]
    }
   ],
   "source": [
    "n_cpu = n_workers = 15\n",
    "ray.init(num_cpus=n_cpu,\n",
    "         memory = 5*1024*1024*1024,\n",
    "         object_store_memory = 10*1024*1024*1024,\n",
    "         driver_object_store_memory = 1*1024*1024*1024)\n",
    "tf.reset_default_graph()\n",
    "R = RolloutWorkerClass(lr=1e-3,gamma=0.99,alpha=0.1,polyak=0.995,seed=0)\n",
    "workers = [RayRolloutWorkerClass.remote(worker_id=i,ep_len_rollout=ep_len_rollout) \n",
    "           for i in range(n_workers)]\n",
    "print (\"RAY initialized with [%d] cpus and [%d] workers.\"%\n",
    "       (n_cpu,n_workers))"
   ]
  },
  {
   "cell_type": "code",
   "execution_count": 7,
   "metadata": {},
   "outputs": [],
   "source": [
    "time.sleep(1)"
   ]
  },
  {
   "cell_type": "markdown",
   "metadata": {},
   "source": [
    "### Replay Buffers"
   ]
  },
  {
   "cell_type": "code",
   "execution_count": 8,
   "metadata": {},
   "outputs": [],
   "source": [
    "replay_buffer = ReplayBuffer(odim=odim,adim=adim,size=int(1e6))\n",
    "replay_buffer_short = ReplayBuffer(odim=odim,adim=adim,size=int(1e5))"
   ]
  },
  {
   "cell_type": "markdown",
   "metadata": {},
   "source": [
    "### Loop"
   ]
  },
  {
   "cell_type": "code",
   "execution_count": 9,
   "metadata": {
    "scrolled": true
   },
   "outputs": [
    {
     "name": "stdout",
     "output_type": "stream",
     "text": [
      "\u001b[2m\u001b[36m(pid=21206)\u001b[0m Ray Worker [6] Ready.\n",
      "\u001b[2m\u001b[36m(pid=21200)\u001b[0m Ray Worker [7] Ready.\n",
      "\u001b[2m\u001b[36m(pid=21202)\u001b[0m Ray Worker [2] Ready.\n",
      "\u001b[2m\u001b[36m(pid=21210)\u001b[0m Ray Worker [3] Ready.\n",
      "\u001b[2m\u001b[36m(pid=21204)\u001b[0m Ray Worker [1] Ready.\n",
      "\u001b[2m\u001b[36m(pid=21205)\u001b[0m Ray Worker [0] Ready.\n",
      "\u001b[2m\u001b[36m(pid=21207)\u001b[0m Ray Worker [9] Ready.\n",
      "\u001b[2m\u001b[36m(pid=21209)\u001b[0m Ray Worker [4] Ready.\n",
      "\u001b[2m\u001b[36m(pid=21201)\u001b[0m Ray Worker [11] Ready.\n",
      "\u001b[2m\u001b[36m(pid=21208)\u001b[0m Ray Worker [5] Ready.\n",
      "\u001b[2m\u001b[36m(pid=21199)\u001b[0m Ray Worker [10] Ready.\n",
      "\u001b[2m\u001b[36m(pid=21213)\u001b[0m Ray Worker [8] Ready.\n",
      "\u001b[2m\u001b[36m(pid=21212)\u001b[0m Ray Worker [12] Ready.\n",
      "\u001b[2m\u001b[36m(pid=21203)\u001b[0m Ray Worker [14] Ready.\n",
      "\u001b[2m\u001b[36m(pid=21211)\u001b[0m Ray Worker [13] Ready.\n",
      "[Evaluate] step:[1/500][0.0%] #step:[1.5e+04] time:[00:00:41] ram:[32.6%].\n",
      "[Evaluate] [0/3] ep_ret:[255.9419] ep_len:[1000]\n",
      "[Evaluate] [1/3] ep_ret:[568.9653] ep_len:[1000]\n",
      "[Evaluate] [2/3] ep_ret:[559.0037] ep_len:[1000]\n",
      "[Evaluate] step:[20/500][3.8%] #step:[3.0e+05] time:[00:13:17] ram:[34.8%].\n",
      "[Evaluate] [0/3] ep_ret:[560.8254] ep_len:[1000]\n",
      "[Evaluate] [1/3] ep_ret:[659.9865] ep_len:[1000]\n",
      "[Evaluate] [2/3] ep_ret:[463.2994] ep_len:[1000]\n",
      "[Evaluate] step:[40/500][7.8%] #step:[6.0e+05] time:[00:26:33] ram:[36.4%].\n",
      "[Evaluate] [0/3] ep_ret:[694.8811] ep_len:[1000]\n",
      "[Evaluate] [1/3] ep_ret:[695.2003] ep_len:[1000]\n",
      "[Evaluate] [2/3] ep_ret:[697.0611] ep_len:[1000]\n",
      "[Evaluate] step:[60/500][11.8%] #step:[9.0e+05] time:[00:39:47] ram:[37.9%].\n",
      "[Evaluate] [0/3] ep_ret:[1305.1234] ep_len:[1000]\n",
      "[Evaluate] [1/3] ep_ret:[1068.5611] ep_len:[1000]\n",
      "[Evaluate] [2/3] ep_ret:[877.6811] ep_len:[1000]\n",
      "[Evaluate] step:[80/500][15.8%] #step:[1.2e+06] time:[00:53:01] ram:[39.4%].\n",
      "[Evaluate] [0/3] ep_ret:[1344.8648] ep_len:[1000]\n",
      "[Evaluate] [1/3] ep_ret:[869.9158] ep_len:[1000]\n",
      "[Evaluate] [2/3] ep_ret:[868.7599] ep_len:[1000]\n",
      "[Evaluate] step:[100/500][19.8%] #step:[1.5e+06] time:[01:06:13] ram:[39.8%].\n",
      "[Evaluate] [0/3] ep_ret:[1187.5831] ep_len:[1000]\n",
      "[Evaluate] [1/3] ep_ret:[1528.9387] ep_len:[1000]\n",
      "[Evaluate] [2/3] ep_ret:[1462.1133] ep_len:[1000]\n",
      "[Evaluate] step:[120/500][23.8%] #step:[1.8e+06] time:[01:19:26] ram:[40.3%].\n",
      "[Evaluate] [0/3] ep_ret:[577.1492] ep_len:[1000]\n",
      "[Evaluate] [1/3] ep_ret:[844.5041] ep_len:[1000]\n",
      "[Evaluate] [2/3] ep_ret:[503.3068] ep_len:[1000]\n",
      "[Evaluate] step:[140/500][27.8%] #step:[2.1e+06] time:[01:32:38] ram:[40.8%].\n",
      "[Evaluate] [0/3] ep_ret:[1887.4265] ep_len:[1000]\n",
      "[Evaluate] [1/3] ep_ret:[1812.4822] ep_len:[1000]\n",
      "[Evaluate] [2/3] ep_ret:[1733.4355] ep_len:[1000]\n",
      "\u001b[2m\u001b[33m(pid=raylet)\u001b[0m E0621 04:03:57.360646 21185 node_manager.cc:3118] Plasma object ffffffffffffffffffffffff0100008032090000 was evicted before the raylet could pin it.\n",
      "[Evaluate] step:[160/500][31.8%] #step:[2.4e+06] time:[01:45:50] ram:[41.3%].\n",
      "[Evaluate] [0/3] ep_ret:[1836.5939] ep_len:[1000]\n",
      "[Evaluate] [1/3] ep_ret:[1856.5130] ep_len:[1000]\n",
      "[Evaluate] [2/3] ep_ret:[1822.8674] ep_len:[1000]\n",
      "[Evaluate] step:[180/500][35.8%] #step:[2.7e+06] time:[01:59:02] ram:[41.8%].\n",
      "[Evaluate] [0/3] ep_ret:[1593.1089] ep_len:[1000]\n",
      "[Evaluate] [1/3] ep_ret:[1563.4856] ep_len:[1000]\n",
      "[Evaluate] [2/3] ep_ret:[1672.2883] ep_len:[1000]\n",
      "\u001b[2m\u001b[33m(pid=raylet)\u001b[0m E0621 04:29:38.896795 21185 node_manager.cc:3118] Plasma object ffffffffffffffffffffffff010000807a0b0000 was evicted before the raylet could pin it.\n",
      "[Evaluate] step:[200/500][39.8%] #step:[3.0e+06] time:[02:12:10] ram:[42.4%].\n",
      "[Evaluate] [0/3] ep_ret:[1783.5757] ep_len:[1000]\n",
      "[Evaluate] [1/3] ep_ret:[1792.7554] ep_len:[1000]\n",
      "[Evaluate] [2/3] ep_ret:[1789.6562] ep_len:[1000]\n",
      "[Evaluate] step:[220/500][43.8%] #step:[3.3e+06] time:[02:25:20] ram:[42.8%].\n",
      "[Evaluate] [0/3] ep_ret:[2106.6737] ep_len:[1000]\n",
      "[Evaluate] [1/3] ep_ret:[2126.5198] ep_len:[1000]\n",
      "[Evaluate] [2/3] ep_ret:[2095.2057] ep_len:[1000]\n",
      "[Evaluate] step:[240/500][47.8%] #step:[3.6e+06] time:[02:38:33] ram:[43.4%].\n",
      "[Evaluate] [0/3] ep_ret:[757.9374] ep_len:[1000]\n",
      "[Evaluate] [1/3] ep_ret:[392.4881] ep_len:[1000]\n",
      "[Evaluate] [2/3] ep_ret:[381.2810] ep_len:[1000]\n",
      "[Evaluate] step:[260/500][51.8%] #step:[3.9e+06] time:[02:51:46] ram:[44.0%].\n",
      "[Evaluate] [0/3] ep_ret:[1926.0838] ep_len:[1000]\n",
      "[Evaluate] [1/3] ep_ret:[1983.0560] ep_len:[1000]\n",
      "[Evaluate] [2/3] ep_ret:[1959.0884] ep_len:[1000]\n",
      "[Evaluate] step:[280/500][55.8%] #step:[4.2e+06] time:[03:04:59] ram:[44.4%].\n",
      "[Evaluate] [0/3] ep_ret:[1921.2748] ep_len:[1000]\n",
      "[Evaluate] [1/3] ep_ret:[1996.5759] ep_len:[1000]\n",
      "[Evaluate] [2/3] ep_ret:[1914.4408] ep_len:[1000]\n",
      "[Evaluate] step:[300/500][59.8%] #step:[4.5e+06] time:[03:18:11] ram:[44.9%].\n",
      "[Evaluate] [0/3] ep_ret:[1851.2636] ep_len:[1000]\n",
      "[Evaluate] [1/3] ep_ret:[1651.4626] ep_len:[1000]\n",
      "[Evaluate] [2/3] ep_ret:[1443.6287] ep_len:[1000]\n",
      "[Evaluate] step:[320/500][63.8%] #step:[4.8e+06] time:[03:31:21] ram:[45.5%].\n",
      "[Evaluate] [0/3] ep_ret:[1643.9348] ep_len:[1000]\n",
      "[Evaluate] [1/3] ep_ret:[1922.9327] ep_len:[1000]\n",
      "[Evaluate] [2/3] ep_ret:[1844.9478] ep_len:[1000]\n",
      "[Evaluate] step:[340/500][67.8%] #step:[5.1e+06] time:[03:44:33] ram:[46.0%].\n",
      "[Evaluate] [0/3] ep_ret:[2112.6348] ep_len:[1000]\n",
      "[Evaluate] [1/3] ep_ret:[1953.0048] ep_len:[1000]\n",
      "[Evaluate] [2/3] ep_ret:[2103.0568] ep_len:[1000]\n",
      "[Evaluate] step:[360/500][71.8%] #step:[5.4e+06] time:[03:57:44] ram:[46.5%].\n",
      "[Evaluate] [0/3] ep_ret:[2168.1819] ep_len:[1000]\n",
      "[Evaluate] [1/3] ep_ret:[2180.6194] ep_len:[1000]\n",
      "[Evaluate] [2/3] ep_ret:[2178.2919] ep_len:[1000]\n",
      "[Evaluate] step:[380/500][75.8%] #step:[5.7e+06] time:[04:10:56] ram:[47.0%].\n",
      "[Evaluate] [0/3] ep_ret:[2201.6893] ep_len:[1000]\n",
      "[Evaluate] [1/3] ep_ret:[2203.9753] ep_len:[1000]\n",
      "[Evaluate] [2/3] ep_ret:[2159.8581] ep_len:[1000]\n",
      "[Evaluate] step:[400/500][79.8%] #step:[6.0e+06] time:[04:24:06] ram:[47.5%].\n",
      "[Evaluate] [0/3] ep_ret:[2240.5277] ep_len:[1000]\n",
      "[Evaluate] [1/3] ep_ret:[2269.7076] ep_len:[1000]\n",
      "[Evaluate] [2/3] ep_ret:[2181.7263] ep_len:[1000]\n",
      "[Evaluate] step:[420/500][83.8%] #step:[6.3e+06] time:[04:37:18] ram:[48.0%].\n",
      "[Evaluate] [0/3] ep_ret:[2018.5465] ep_len:[1000]\n",
      "[Evaluate] [1/3] ep_ret:[1993.5494] ep_len:[1000]\n",
      "[Evaluate] [2/3] ep_ret:[1998.8304] ep_len:[1000]\n",
      "[Evaluate] step:[440/500][87.8%] #step:[6.6e+06] time:[04:50:29] ram:[48.4%].\n",
      "[Evaluate] [0/3] ep_ret:[1799.3382] ep_len:[1000]\n",
      "[Evaluate] [1/3] ep_ret:[1937.5993] ep_len:[1000]\n",
      "[Evaluate] [2/3] ep_ret:[1867.7633] ep_len:[1000]\n",
      "[Evaluate] step:[460/500][91.8%] #step:[6.9e+06] time:[05:03:42] ram:[48.9%].\n",
      "[Evaluate] [0/3] ep_ret:[1745.0586] ep_len:[1000]\n",
      "[Evaluate] [1/3] ep_ret:[1441.3767] ep_len:[1000]\n",
      "[Evaluate] [2/3] ep_ret:[1407.7209] ep_len:[1000]\n",
      "[Evaluate] step:[480/500][95.8%] #step:[7.2e+06] time:[05:16:53] ram:[49.4%].\n",
      "[Evaluate] [0/3] ep_ret:[1951.7088] ep_len:[1000]\n",
      "[Evaluate] [1/3] ep_ret:[1873.0143] ep_len:[1000]\n",
      "[Evaluate] [2/3] ep_ret:[1866.7562] ep_len:[1000]\n",
      "[Evaluate] step:[500/500][99.8%] #step:[7.5e+06] time:[05:30:05] ram:[49.9%].\n",
      "[Evaluate] [0/3] ep_ret:[2393.3623] ep_len:[1000]\n",
      "[Evaluate] [1/3] ep_ret:[2390.0912] ep_len:[1000]\n",
      "[Evaluate] [2/3] ep_ret:[2391.4121] ep_len:[1000]\n",
      "Done.\n"
     ]
    }
   ],
   "source": [
    "start_time = time.time()\n",
    "n_env_step = 0 # number of environment steps\n",
    "for t in range(int(total_steps)):\n",
    "    esec = time.time()-start_time\n",
    "    \n",
    "    # Synchronize worker weights\n",
    "    weights = R.get_weights()\n",
    "    set_weights_list = [worker.set_weights.remote(weights) for worker in workers] \n",
    "    \n",
    "    # Make rollout and accumulate to Buffers\n",
    "    ops = [worker.rollout.remote() for worker in workers]\n",
    "    rollout_vals = ray.get(ops)\n",
    "    for rollout_val in rollout_vals:\n",
    "        o_buffer,a_buffer,r_buffer,o2_buffer,d_buffer = rollout_val\n",
    "        for i in range(ep_len_rollout):\n",
    "            o,a,r,o2,d = o_buffer[i,:],a_buffer[i,:],r_buffer[i],o2_buffer[i,:],d_buffer[i]\n",
    "            replay_buffer.store(o, a, r, o2, d) \n",
    "            replay_buffer_short.store(o, a, r, o2, d) \n",
    "            n_env_step += 1\n",
    "    \n",
    "    # Update\n",
    "    for _ in range(int(update_count)):\n",
    "        batch = replay_buffer.sample_batch(batch_size//2) \n",
    "        batch_short = replay_buffer_short.sample_batch(batch_size//2) \n",
    "        feed_dict = {R.model['o_ph']: np.concatenate((batch['obs1'],batch_short['obs1'])),\n",
    "                     R.model['o2_ph']: np.concatenate((batch['obs2'],batch_short['obs2'])),\n",
    "                     R.model['a_ph']: np.concatenate((batch['acts'],batch_short['acts'])),\n",
    "                     R.model['r_ph']: np.concatenate((batch['rews'],batch_short['rews'])),\n",
    "                     R.model['d_ph']: np.concatenate((batch['done'],batch_short['done']))\n",
    "                    }\n",
    "        outs = R.sess.run(R.step_ops, feed_dict)\n",
    "    \n",
    "    # Evaluate\n",
    "    if (t == 0) or (((t+1)%evaluate_every) == 0): \n",
    "        ram_percent = psutil.virtual_memory().percent # memory usage\n",
    "        print (\"[Evaluate] step:[%d/%d][%.1f%%] #step:[%.1e] time:[%s] ram:[%.1f%%].\"%\n",
    "               (t+1,total_steps,t/total_steps*100,\n",
    "                n_env_step,\n",
    "                time.strftime(\"%H:%M:%S\", time.gmtime(time.time()-start_time)),\n",
    "                ram_percent)\n",
    "              )\n",
    "        for eval_idx in range(num_eval): \n",
    "            o,d,ep_ret,ep_len = test_env.reset(),False,0,0\n",
    "            _ = test_env.render(mode='human') \n",
    "            while not(d or (ep_len == max_ep_len_eval)):\n",
    "                a = R.get_action(o,deterministic=True)\n",
    "                o,r,d,_ = test_env.step(a)\n",
    "                _ = test_env.render(mode='human') \n",
    "                ep_ret += r # compute return \n",
    "                ep_len += 1\n",
    "            print (\"[Evaluate] [%d/%d] ep_ret:[%.4f] ep_len:[%d]\"\n",
    "                %(eval_idx,num_eval,ep_ret,ep_len))\n",
    "    \n",
    "print (\"Done.\")"
   ]
  },
  {
   "cell_type": "code",
   "execution_count": null,
   "metadata": {},
   "outputs": [],
   "source": []
  },
  {
   "cell_type": "markdown",
   "metadata": {},
   "source": [
    "### Close"
   ]
  },
  {
   "cell_type": "code",
   "execution_count": 10,
   "metadata": {},
   "outputs": [],
   "source": [
    "test_env.close()"
   ]
  },
  {
   "cell_type": "code",
   "execution_count": 11,
   "metadata": {},
   "outputs": [],
   "source": [
    "ray.shutdown()"
   ]
  },
  {
   "cell_type": "code",
   "execution_count": null,
   "metadata": {},
   "outputs": [],
   "source": []
  },
  {
   "cell_type": "markdown",
   "metadata": {},
   "source": [
    "### Test-Run"
   ]
  },
  {
   "cell_type": "code",
   "execution_count": 13,
   "metadata": {},
   "outputs": [
    {
     "name": "stdout",
     "output_type": "stream",
     "text": [
      "[AntBulletEnv-v0] ready.\n",
      "[Evaluate] ep_ret:[2.0000] ep_len:[1000]\n"
     ]
    }
   ],
   "source": [
    "gym.logger.set_level(40)\n",
    "env_name = 'AntBulletEnv-v0'\n",
    "test_env = gym.make(env_name)\n",
    "_ = test_env.render(mode='human') # enable rendering on test_env\n",
    "_ = test_env.reset()\n",
    "for _ in range(3): # dummy run for proper rendering \n",
    "    a = test_env.action_space.sample()\n",
    "    o,r,d,_ = test_env.step(a)\n",
    "    time.sleep(0.01)\n",
    "print (\"[%s] ready.\"%(env_name))\n",
    "o,d,ep_ret,ep_len = test_env.reset(),False,0,0\n",
    "_ = test_env.render(mode='human') \n",
    "while not(d or (ep_len == max_ep_len_eval)):\n",
    "    a = R.get_action(o,deterministic=True)\n",
    "    o,r,d,_ = test_env.step(a)\n",
    "    _ = test_env.render(mode='human') \n",
    "    ep_ret += r # compute return \n",
    "    ep_len += 1\n",
    "print (\"[Evaluate] ep_ret:[%.4f] ep_len:[%d]\"\n",
    "    %(eval_idx,ep_len))\n",
    "test_env.close() # close env"
   ]
  },
  {
   "cell_type": "code",
   "execution_count": null,
   "metadata": {},
   "outputs": [],
   "source": []
  }
 ],
 "metadata": {
  "kernelspec": {
   "display_name": "Python 3",
   "language": "python",
   "name": "python3"
  },
  "language_info": {
   "codemirror_mode": {
    "name": "ipython",
    "version": 3
   },
   "file_extension": ".py",
   "mimetype": "text/x-python",
   "name": "python",
   "nbconvert_exporter": "python",
   "pygments_lexer": "ipython3",
   "version": "3.6.8"
  }
 },
 "nbformat": 4,
 "nbformat_minor": 4
}
