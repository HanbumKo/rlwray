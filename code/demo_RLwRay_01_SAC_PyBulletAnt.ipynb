{
 "cells": [
  {
   "cell_type": "markdown",
   "metadata": {},
   "source": [
    "# Synchronous SAC with PyBullet Ant"
   ]
  },
  {
   "cell_type": "code",
   "execution_count": 1,
   "metadata": {},
   "outputs": [
    {
     "name": "stdout",
     "output_type": "stream",
     "text": [
      "Packaged loaded. TF version is [1.14.0].\n"
     ]
    }
   ],
   "source": [
    "import datetime,gym,os,pybullet_envs,time,os,ray\n",
    "import numpy as np\n",
    "import tensorflow as tf\n",
    "from util import gpu_sess,suppress_tf_warning\n",
    "from sac import ReplayBuffer,create_sac_model,create_sac_graph\n",
    "np.set_printoptions(precision=2)\n",
    "suppress_tf_warning() # suppress warning \n",
    "gym.logger.set_level(40) # gym logger \n",
    "print (\"Packaged loaded. TF version is [%s].\"%(tf.__version__))"
   ]
  },
  {
   "cell_type": "markdown",
   "metadata": {},
   "source": [
    "### Rollout Worker"
   ]
  },
  {
   "cell_type": "code",
   "execution_count": 2,
   "metadata": {},
   "outputs": [
    {
     "name": "stdout",
     "output_type": "stream",
     "text": [
      "Rollout worker classes (with and without RAY) ready.\n"
     ]
    }
   ],
   "source": [
    "class RolloutWorkerClass(object):\n",
    "    \"\"\"\n",
    "    Worker without RAY (for update purposes)\n",
    "    \"\"\"\n",
    "    def __init__(self,lr=1e-3,gamma=0.99,alpha=0.1,polyak=0.995,seed=1):\n",
    "        self.seed = seed\n",
    "        # Each worker should maintain its own environment\n",
    "        import pybullet_envs,gym\n",
    "        from util import suppress_tf_warning\n",
    "        suppress_tf_warning() # suppress TF warnings\n",
    "        gym.logger.set_level(40) # gym logger \n",
    "        \n",
    "        self.env = gym.make('AntBulletEnv-v0')\n",
    "        odim,adim = self.env.observation_space.shape[0],self.env.action_space.shape[0]\n",
    "        self.odim = odim\n",
    "        self.adim = adim\n",
    "        \n",
    "        # Create SAC model and computational graph \n",
    "        self.model,self.sess = create_sac_model(odim=self.odim,adim=self.adim)\n",
    "        self.step_ops,self.target_init = \\\n",
    "            create_sac_graph(self.model,lr=lr,gamma=gamma,alpha=alpha,polyak=polyak)\n",
    "        \n",
    "        # Initialize model \n",
    "        tf.set_random_seed(self.seed)\n",
    "        np.random.seed(self.seed)\n",
    "        self.sess.run(tf.global_variables_initializer())\n",
    "        self.sess.run(self.target_init)\n",
    "    \n",
    "    def get_action(self,o,deterministic=False):\n",
    "        act_op = self.model['mu'] if deterministic else self.model['pi']\n",
    "        return self.sess.run(act_op, feed_dict={self.model['o_ph']:o.reshape(1,-1)})[0]\n",
    "\n",
    "    def get_weights(self):\n",
    "        \"\"\"\n",
    "        Get weights\n",
    "        \"\"\"\n",
    "        weight_vals = self.sess.run(self.model['main_vars'])\n",
    "        return weight_vals\n",
    "    \n",
    "    def set_weights(self,weight_vals):\n",
    "        \"\"\"\n",
    "        Set weights\n",
    "        \"\"\"\n",
    "        for w_idx,weight_tf_var in enumerate(self.model['main_vars']):\n",
    "            self.sess.run(tf.assign(weight_tf_var,weight_vals[w_idx]))\n",
    "            \n",
    "    def rollout(self,ep_len_rollout=10):\n",
    "        \"\"\"\n",
    "        Rollout\n",
    "        \"\"\"\n",
    "        o_buffer,a_buffer,r_buffer,o2_buffer,d_buffer = \\\n",
    "            np.zeros((ep_len_rollout,self.odim)),np.zeros((ep_len_rollout,self.adim)),\\\n",
    "            np.zeros((ep_len_rollout)),np.zeros((ep_len_rollout,self.odim)),np.zeros((ep_len_rollout))\n",
    "        o = self.env.reset() # reset environment\n",
    "        # Loop\n",
    "        for t in range(ep_len_rollout):\n",
    "            a = self.get_action(o,deterministic=False) \n",
    "            o2,r,d,_ = self.env.step(a)\n",
    "            # Append\n",
    "            o_buffer[t,:],a_buffer[t,:],r_buffer[t],o2_buffer[t,:],d_buffer[t] = o,a,r,o2,d\n",
    "            o = o2\n",
    "            if d: o = self.env.reset()\n",
    "        return o_buffer,a_buffer,r_buffer,o2_buffer,d_buffer\n",
    "    \n",
    "@ray.remote\n",
    "class RayRolloutWorkerClass(object):\n",
    "    \"\"\"\n",
    "    Rollout Worker with RAY\n",
    "    \"\"\"\n",
    "    def __init__(self,worker_id=0):\n",
    "        self.worker_id = worker_id\n",
    "        # Each worker should maintain its own environment\n",
    "        import pybullet_envs,gym\n",
    "        from util import suppress_tf_warning\n",
    "        suppress_tf_warning() # suppress TF warnings\n",
    "        gym.logger.set_level(40) # gym logger \n",
    "\n",
    "        self.env = gym.make('AntBulletEnv-v0')\n",
    "        odim,adim = self.env.observation_space.shape[0],self.env.action_space.shape[0]\n",
    "        self.odim = odim\n",
    "        self.adim = adim\n",
    "        # Create SAC model\n",
    "        self.model,self.sess = create_sac_model(odim=self.odim,adim=self.adim)\n",
    "        self.sess.run(tf.global_variables_initializer())\n",
    "        \n",
    "    def get_action(self,o,deterministic=False):\n",
    "        act_op = self.model['mu'] if deterministic else self.model['pi']\n",
    "        return self.sess.run(act_op, feed_dict={self.model['o_ph']:o.reshape(1,-1)})[0]\n",
    "    \n",
    "    def get_weights(self):\n",
    "        \"\"\"\n",
    "        Get weights\n",
    "        \"\"\"\n",
    "        weight_vals = self.sess.run(self.model['main_vars'])\n",
    "        return weight_vals\n",
    "    \n",
    "    def set_weights(self,weight_vals):\n",
    "        \"\"\"\n",
    "        Set weights\n",
    "        \"\"\"\n",
    "        for w_idx,weight_tf_var in enumerate(self.model['main_vars']):\n",
    "            self.sess.run(tf.assign(weight_tf_var,weight_vals[w_idx]))\n",
    "            \n",
    "    def rollout(self,ep_len_rollout=10):\n",
    "        \"\"\"\n",
    "        Rollout\n",
    "        \"\"\"\n",
    "        o_buffer,a_buffer,r_buffer,o2_buffer,d_buffer = \\\n",
    "            np.zeros((ep_len_rollout,self.odim)),np.zeros((ep_len_rollout,self.adim)),\\\n",
    "            np.zeros((ep_len_rollout)),np.zeros((ep_len_rollout,self.odim)),np.zeros((ep_len_rollout))\n",
    "        o = self.env.reset() # reset environment\n",
    "        # Loop\n",
    "        for t in range(ep_len_rollout):\n",
    "            a = self.get_action(o,deterministic=False) \n",
    "            o2,r,d,_ = self.env.step(a)\n",
    "            # Append\n",
    "            o_buffer[t,:],a_buffer[t,:],r_buffer[t],o2_buffer[t,:],d_buffer[t] = o,a,r,o2,d\n",
    "            o = o2\n",
    "            if d: o = self.env.reset()\n",
    "        return o_buffer,a_buffer,r_buffer,o2_buffer,d_buffer\n",
    "    \n",
    "print (\"Rollout worker classes (with and without RAY) ready.\")"
   ]
  },
  {
   "cell_type": "markdown",
   "metadata": {},
   "source": [
    "### Initilize PyBullet Ant Environment"
   ]
  },
  {
   "cell_type": "code",
   "execution_count": 3,
   "metadata": {},
   "outputs": [
    {
     "name": "stdout",
     "output_type": "stream",
     "text": [
      "[AntBulletEnv-v0] ready.\n"
     ]
    }
   ],
   "source": [
    "env_name = 'AntBulletEnv-v0'\n",
    "test_env = gym.make(env_name)\n",
    "_ = test_env.render(mode='human') # enable rendering on test_env\n",
    "_ = test_env.reset()\n",
    "for _ in range(3): # dummy run for proper rendering \n",
    "    a = test_env.action_space.sample()\n",
    "    o,r,d,_ = test_env.step(a)\n",
    "    time.sleep(0.01)\n",
    "print (\"[%s] ready.\"%(env_name))"
   ]
  },
  {
   "cell_type": "code",
   "execution_count": 4,
   "metadata": {},
   "outputs": [],
   "source": [
    "odim,adim = o.shape[0],a.shape[0]"
   ]
  },
  {
   "cell_type": "markdown",
   "metadata": {},
   "source": [
    "### Initialize Workers"
   ]
  },
  {
   "cell_type": "code",
   "execution_count": 5,
   "metadata": {},
   "outputs": [
    {
     "name": "stderr",
     "output_type": "stream",
     "text": [
      "2020-06-19 23:39:28,223\tWARNING services.py:586 -- setpgrp failed, processes may not be cleaned up properly: [Errno 1] Operation not permitted.\n",
      "2020-06-19 23:39:28,226\tINFO resource_spec.py:212 -- Starting Ray with 16.5 GiB memory available for workers and up to 8.27 GiB for objects. You can adjust these settings with ray.init(memory=<bytes>, object_store_memory=<bytes>).\n",
      "2020-06-19 23:39:28,609\tINFO services.py:1078 -- View the Ray dashboard at \u001b[1m\u001b[32mlocalhost:8265\u001b[39m\u001b[22m\n"
     ]
    },
    {
     "name": "stdout",
     "output_type": "stream",
     "text": [
      "RAY initialized with [15] cpus and [15] workers.\n"
     ]
    }
   ],
   "source": [
    "n_cpu = n_workers = 15\n",
    "ray.init(num_cpus=n_cpu)\n",
    "tf.reset_default_graph()\n",
    "R = RolloutWorkerClass(lr=5e-4,gamma=0.99,alpha=0.1,polyak=0.995,seed=1)\n",
    "workers = [RayRolloutWorkerClass.remote(worker_id=i) for i in range(n_workers)]\n",
    "print (\"RAY initialized with [%d] cpus and [%d] workers.\"%\n",
    "       (n_cpu,n_workers))"
   ]
  },
  {
   "cell_type": "code",
   "execution_count": 6,
   "metadata": {},
   "outputs": [],
   "source": [
    "time.sleep(1)"
   ]
  },
  {
   "cell_type": "markdown",
   "metadata": {},
   "source": [
    "### Replay Buffers"
   ]
  },
  {
   "cell_type": "code",
   "execution_count": 7,
   "metadata": {},
   "outputs": [],
   "source": [
    "replay_buffer = ReplayBuffer(odim=odim,adim=adim,size=int(1e6))\n",
    "replay_buffer_short = ReplayBuffer(odim=odim,adim=adim,size=int(1e5))"
   ]
  },
  {
   "cell_type": "markdown",
   "metadata": {},
   "source": [
    "### Loop"
   ]
  },
  {
   "cell_type": "code",
   "execution_count": 8,
   "metadata": {},
   "outputs": [],
   "source": [
    "total_steps,evaluate_every = 300,20\n",
    "ep_len_rollout = 1000\n",
    "batch_size,update_count = 128,1000\n",
    "num_eval,max_ep_len_eval = 3,1e3"
   ]
  },
  {
   "cell_type": "code",
   "execution_count": 9,
   "metadata": {
    "scrolled": true
   },
   "outputs": [
    {
     "name": "stdout",
     "output_type": "stream",
     "text": [
      "[Evaluate] step:[1/300][0.0%] time:[00:00:12].\n",
      "[Evaluate] [0/3] ep_ret:[14.9603] ep_len:[25]\n",
      "[Evaluate] [1/3] ep_ret:[17.0414] ep_len:[29]\n",
      "[Evaluate] [2/3] ep_ret:[13.8742] ep_len:[23]\n",
      "[Evaluate] step:[20/300][6.3%] time:[00:03:49].\n",
      "[Evaluate] [0/3] ep_ret:[489.2665] ep_len:[1000]\n",
      "[Evaluate] [1/3] ep_ret:[432.3884] ep_len:[1000]\n",
      "[Evaluate] [2/3] ep_ret:[568.0658] ep_len:[1000]\n",
      "[Evaluate] step:[40/300][13.0%] time:[00:08:17].\n",
      "[Evaluate] [0/3] ep_ret:[800.8129] ep_len:[1000]\n",
      "[Evaluate] [1/3] ep_ret:[802.1072] ep_len:[1000]\n",
      "[Evaluate] [2/3] ep_ret:[810.2450] ep_len:[1000]\n",
      "[Evaluate] step:[60/300][19.7%] time:[00:13:26].\n",
      "[Evaluate] [0/3] ep_ret:[765.1344] ep_len:[1000]\n",
      "[Evaluate] [1/3] ep_ret:[802.4225] ep_len:[1000]\n",
      "[Evaluate] [2/3] ep_ret:[795.4619] ep_len:[1000]\n",
      "[Evaluate] step:[80/300][26.3%] time:[00:19:16].\n",
      "[Evaluate] [0/3] ep_ret:[1190.5351] ep_len:[1000]\n",
      "[Evaluate] [1/3] ep_ret:[1120.6869] ep_len:[1000]\n",
      "[Evaluate] [2/3] ep_ret:[875.4159] ep_len:[1000]\n",
      "[Evaluate] step:[100/300][33.0%] time:[00:25:46].\n",
      "[Evaluate] [0/3] ep_ret:[799.8156] ep_len:[1000]\n",
      "[Evaluate] [1/3] ep_ret:[868.7464] ep_len:[1000]\n",
      "[Evaluate] [2/3] ep_ret:[816.1900] ep_len:[1000]\n",
      "\u001b[2m\u001b[33m(pid=raylet)\u001b[0m E0620 00:11:21.491612  4108 node_manager.cc:3118] Plasma object ffffffffffffffffffffffff01000080ea060000 was evicted before the raylet could pin it.\n",
      "[Evaluate] step:[120/300][39.7%] time:[00:32:55].\n",
      "[Evaluate] [0/3] ep_ret:[846.7357] ep_len:[1000]\n",
      "[Evaluate] [1/3] ep_ret:[700.5195] ep_len:[1000]\n",
      "[Evaluate] [2/3] ep_ret:[691.3277] ep_len:[1000]\n",
      "[Evaluate] step:[140/300][46.3%] time:[00:40:44].\n",
      "[Evaluate] [0/3] ep_ret:[889.8967] ep_len:[1000]\n",
      "[Evaluate] [1/3] ep_ret:[880.4175] ep_len:[1000]\n",
      "[Evaluate] [2/3] ep_ret:[868.2500] ep_len:[1000]\n",
      "[Evaluate] step:[160/300][53.0%] time:[00:49:13].\n",
      "[Evaluate] [0/3] ep_ret:[1414.6130] ep_len:[1000]\n",
      "[Evaluate] [1/3] ep_ret:[1378.9505] ep_len:[1000]\n",
      "[Evaluate] [2/3] ep_ret:[1427.1347] ep_len:[1000]\n",
      "[Evaluate] step:[180/300][59.7%] time:[00:58:24].\n",
      "[Evaluate] [0/3] ep_ret:[1037.9029] ep_len:[1000]\n",
      "[Evaluate] [1/3] ep_ret:[1002.3061] ep_len:[1000]\n",
      "[Evaluate] [2/3] ep_ret:[1131.2579] ep_len:[1000]\n",
      "[Evaluate] step:[200/300][66.3%] time:[01:08:13].\n",
      "[Evaluate] [0/3] ep_ret:[1525.7031] ep_len:[1000]\n",
      "[Evaluate] [1/3] ep_ret:[1564.4857] ep_len:[1000]\n",
      "[Evaluate] [2/3] ep_ret:[1559.6792] ep_len:[1000]\n",
      "[Evaluate] step:[220/300][73.0%] time:[01:18:42].\n",
      "[Evaluate] [0/3] ep_ret:[1857.9437] ep_len:[1000]\n",
      "[Evaluate] [1/3] ep_ret:[1893.5974] ep_len:[1000]\n",
      "[Evaluate] [2/3] ep_ret:[1893.4565] ep_len:[1000]\n",
      "[Evaluate] step:[240/300][79.7%] time:[01:29:51].\n",
      "[Evaluate] [0/3] ep_ret:[2099.7100] ep_len:[1000]\n",
      "[Evaluate] [1/3] ep_ret:[2126.6525] ep_len:[1000]\n",
      "[Evaluate] [2/3] ep_ret:[2145.8690] ep_len:[1000]\n",
      "[Evaluate] step:[260/300][86.3%] time:[01:41:42].\n",
      "[Evaluate] [0/3] ep_ret:[2273.4380] ep_len:[1000]\n",
      "[Evaluate] [1/3] ep_ret:[2273.3035] ep_len:[1000]\n",
      "[Evaluate] [2/3] ep_ret:[2282.6924] ep_len:[1000]\n",
      "[Evaluate] step:[280/300][93.0%] time:[01:54:12].\n",
      "[Evaluate] [0/3] ep_ret:[2204.8998] ep_len:[1000]\n",
      "[Evaluate] [1/3] ep_ret:[2197.5121] ep_len:[1000]\n",
      "[Evaluate] [2/3] ep_ret:[2196.8801] ep_len:[1000]\n",
      "[Evaluate] step:[300/300][99.7%] time:[02:07:21].\n",
      "[Evaluate] [0/3] ep_ret:[2192.6203] ep_len:[1000]\n",
      "[Evaluate] [1/3] ep_ret:[1987.6802] ep_len:[1000]\n",
      "[Evaluate] [2/3] ep_ret:[856.5148] ep_len:[1000]\n",
      "Done.\n"
     ]
    }
   ],
   "source": [
    "start_time = time.time()\n",
    "for t in range(int(total_steps)):\n",
    "    esec = time.time()-start_time\n",
    "    \n",
    "    # Synchronize worker weights\n",
    "    weights = R.get_weights()\n",
    "    set_weights_list = [worker.set_weights.remote(weights) for worker in workers] \n",
    "\n",
    "    # Make rollout and accumulate to Buffers\n",
    "    ops = [worker.rollout.remote(ep_len_rollout=ep_len_rollout) for worker in workers]\n",
    "    rollout_vals = ray.get(ops)\n",
    "    for rollout_val in rollout_vals:\n",
    "        o_buffer,a_buffer,r_buffer,o2_buffer,d_buffer = rollout_val\n",
    "        for i in range(ep_len_rollout):\n",
    "            o,a,r,o2,d = o_buffer[i,:],a_buffer[i,:],r_buffer[i],o2_buffer[i,:],d_buffer[i]\n",
    "            replay_buffer.store(o, a, r, o2, d) \n",
    "            replay_buffer_short.store(o, a, r, o2, d) \n",
    "\n",
    "    # Update\n",
    "    for _ in range(int(update_count)):\n",
    "        batch = replay_buffer.sample_batch(batch_size//2) \n",
    "        batch_short = replay_buffer_short.sample_batch(batch_size//2) \n",
    "        feed_dict = {R.model['o_ph']: np.concatenate((batch['obs1'],batch_short['obs1'])),\n",
    "                     R.model['o2_ph']: np.concatenate((batch['obs2'],batch_short['obs2'])),\n",
    "                     R.model['a_ph']: np.concatenate((batch['acts'],batch_short['acts'])),\n",
    "                     R.model['r_ph']: np.concatenate((batch['rews'],batch_short['rews'])),\n",
    "                     R.model['d_ph']: np.concatenate((batch['done'],batch_short['done']))\n",
    "                    }\n",
    "        outs = R.sess.run(R.step_ops, feed_dict)\n",
    "\n",
    "    # Evaluate\n",
    "    if (t == 0) or (((t+1)%evaluate_every) == 0): \n",
    "        print (\"[Evaluate] step:[%d/%d][%.1f%%] time:[%s].\"%\n",
    "               (t+1,total_steps,t/total_steps*100,\n",
    "                time.strftime(\"%H:%M:%S\", time.gmtime(time.time()-start_time)))\n",
    "              )\n",
    "        for eval_idx in range(num_eval): \n",
    "            o,d,ep_ret,ep_len = test_env.reset(),False,0,0\n",
    "            _ = test_env.render(mode='human') \n",
    "            while not(d or (ep_len == max_ep_len_eval)):\n",
    "                a = R.get_action(o,deterministic=True)\n",
    "                o,r,d,_ = test_env.step(a)\n",
    "                _ = test_env.render(mode='human') \n",
    "                ep_ret += r # compute return \n",
    "                ep_len += 1\n",
    "            print (\"[Evaluate] [%d/%d] ep_ret:[%.4f] ep_len:[%d]\"\n",
    "                %(eval_idx,num_eval,ep_ret,ep_len))\n",
    "    \n",
    "print (\"Done.\")"
   ]
  },
  {
   "cell_type": "code",
   "execution_count": null,
   "metadata": {},
   "outputs": [],
   "source": []
  },
  {
   "cell_type": "markdown",
   "metadata": {},
   "source": [
    "### Close"
   ]
  },
  {
   "cell_type": "code",
   "execution_count": 15,
   "metadata": {},
   "outputs": [],
   "source": [
    "test_env.close()"
   ]
  },
  {
   "cell_type": "code",
   "execution_count": 10,
   "metadata": {},
   "outputs": [],
   "source": [
    "ray.shutdown()"
   ]
  },
  {
   "cell_type": "code",
   "execution_count": null,
   "metadata": {},
   "outputs": [],
   "source": []
  },
  {
   "cell_type": "markdown",
   "metadata": {},
   "source": [
    "### Test-Run"
   ]
  },
  {
   "cell_type": "code",
   "execution_count": 18,
   "metadata": {},
   "outputs": [
    {
     "name": "stdout",
     "output_type": "stream",
     "text": [
      "[AntBulletEnv-v0] ready.\n",
      "[Evaluate] ep_ret:[2.0000] ep_len:[1000]\n"
     ]
    }
   ],
   "source": [
    "gym.logger.set_level(40)\n",
    "env_name = 'AntBulletEnv-v0'\n",
    "test_env = gym.make(env_name)\n",
    "_ = test_env.render(mode='human') # enable rendering on test_env\n",
    "_ = test_env.reset()\n",
    "for _ in range(3): # dummy run for proper rendering \n",
    "    a = test_env.action_space.sample()\n",
    "    o,r,d,_ = test_env.step(a)\n",
    "    time.sleep(0.01)\n",
    "print (\"[%s] ready.\"%(env_name))\n",
    "o,d,ep_ret,ep_len = test_env.reset(),False,0,0\n",
    "_ = test_env.render(mode='human') \n",
    "while not(d or (ep_len == max_ep_len_eval)):\n",
    "    a = R.get_action(o,deterministic=True)\n",
    "    o,r,d,_ = test_env.step(a)\n",
    "    _ = test_env.render(mode='human') \n",
    "    ep_ret += r # compute return \n",
    "    ep_len += 1\n",
    "print (\"[Evaluate] ep_ret:[%.4f] ep_len:[%d]\"\n",
    "    %(eval_idx,ep_len))\n",
    "test_env.close() # close env"
   ]
  },
  {
   "cell_type": "code",
   "execution_count": null,
   "metadata": {},
   "outputs": [],
   "source": []
  }
 ],
 "metadata": {
  "kernelspec": {
   "display_name": "Python 3",
   "language": "python",
   "name": "python3"
  },
  "language_info": {
   "codemirror_mode": {
    "name": "ipython",
    "version": 3
   },
   "file_extension": ".py",
   "mimetype": "text/x-python",
   "name": "python",
   "nbconvert_exporter": "python",
   "pygments_lexer": "ipython3",
   "version": "3.6.8"
  }
 },
 "nbformat": 4,
 "nbformat_minor": 4
}
