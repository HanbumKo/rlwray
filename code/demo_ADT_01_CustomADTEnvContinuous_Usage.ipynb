{
 "cells": [
  {
   "cell_type": "markdown",
   "metadata": {},
   "source": [
    "# CustomADTEnvContinuous Usage"
   ]
  },
  {
   "cell_type": "code",
   "execution_count": null,
   "metadata": {},
   "outputs": [],
   "source": [
    "from episci.environment_wrappers.tactical_action_adt_env_continuous import CustomADTEnvContinuous\n",
    "from episci.agents.utils.constants import Agents, RewardType"
   ]
  },
  {
   "cell_type": "code",
   "execution_count": null,
   "metadata": {},
   "outputs": [],
   "source": []
  },
  {
   "cell_type": "code",
   "execution_count": null,
   "metadata": {},
   "outputs": [],
   "source": [
    "red_distribution = {\n",
    "    Agents.SPOT_4G: 0.15,\n",
    "    Agents.SPOT_5G: 0.30,\n",
    "    Agents.SPOT_RANDOM: 0.50,\n",
    "    Agents.EXPERT_SYSTEM_TRIAL_2: 0.75,\n",
    "    Agents.EXPERT_SYSTEM_TRIAL_3_SCRIMMAGE_4: 1.0\n",
    "}\n",
    "env_config = {\n",
    "    \"red_distribution\": red_distribution,\n",
    "    \"reward_type\": RewardType.SHAPED\n",
    "}\n",
    "env = CustomADTEnvContinuous(env_config)"
   ]
  },
  {
   "cell_type": "code",
   "execution_count": null,
   "metadata": {
    "scrolled": true
   },
   "outputs": [],
   "source": [
    "o,d = env.reset(),False\n",
    "while not d:\n",
    "    a = env.action_space.sample()\n",
    "    o,r,d,_ = env.step(a)\n",
    "print (\"Done.\")"
   ]
  },
  {
   "cell_type": "code",
   "execution_count": null,
   "metadata": {},
   "outputs": [],
   "source": []
  },
  {
   "cell_type": "code",
   "execution_count": null,
   "metadata": {},
   "outputs": [],
   "source": []
  }
 ],
 "metadata": {
  "kernelspec": {
   "display_name": "Python 3",
   "language": "python",
   "name": "python3"
  },
  "language_info": {
   "codemirror_mode": {
    "name": "ipython",
    "version": 3
   },
   "file_extension": ".py",
   "mimetype": "text/x-python",
   "name": "python",
   "nbconvert_exporter": "python",
   "pygments_lexer": "ipython3",
   "version": "3.6.8"
  }
 },
 "nbformat": 4,
 "nbformat_minor": 4
}
