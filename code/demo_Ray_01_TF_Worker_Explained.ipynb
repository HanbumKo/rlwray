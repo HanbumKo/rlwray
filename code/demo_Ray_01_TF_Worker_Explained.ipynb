{
 "cells": [
  {
   "cell_type": "markdown",
   "metadata": {},
   "source": [
    "# Use RAY with TensorFlow Workers <font color='grey'> (*Self-Contained*) </font>"
   ]
  },
  {
   "cell_type": "code",
   "execution_count": 1,
   "metadata": {},
   "outputs": [
    {
     "name": "stdout",
     "output_type": "stream",
     "text": [
      "WARNING:tensorflow:From /home/sj/github/rlwray/code/util.py:12: The name tf.logging.set_verbosity is deprecated. Please use tf.compat.v1.logging.set_verbosity instead.\n",
      "\n",
      "WARNING:tensorflow:From /home/sj/github/rlwray/code/util.py:12: The name tf.logging.ERROR is deprecated. Please use tf.compat.v1.logging.ERROR instead.\n",
      "\n",
      "Packaged loaded. TF version is [1.14.0].\n"
     ]
    }
   ],
   "source": [
    "import datetime,gym,os,pybullet_envs,time,ray\n",
    "import numpy as np\n",
    "np.set_printoptions(precision=2)\n",
    "import tensorflow as tf\n",
    "from util import suppress_tf_warning\n",
    "suppress_tf_warning()\n",
    "print (\"Packaged loaded. TF version is [%s].\"%(tf.__version__))"
   ]
  },
  {
   "cell_type": "markdown",
   "metadata": {},
   "source": [
    "### Initialize Ray"
   ]
  },
  {
   "cell_type": "code",
   "execution_count": 2,
   "metadata": {},
   "outputs": [
    {
     "name": "stderr",
     "output_type": "stream",
     "text": [
      "2020-06-15 09:58:14,235\tWARNING services.py:586 -- setpgrp failed, processes may not be cleaned up properly: [Errno 1] Operation not permitted.\n",
      "2020-06-15 09:58:14,238\tINFO resource_spec.py:212 -- Starting Ray with 14.89 GiB memory available for workers and up to 7.46 GiB for objects. You can adjust these settings with ray.init(memory=<bytes>, object_store_memory=<bytes>).\n",
      "2020-06-15 09:58:14,612\tINFO services.py:1078 -- View the Ray dashboard at \u001b[1m\u001b[32mlocalhost:8265\u001b[39m\u001b[22m\n"
     ]
    },
    {
     "name": "stdout",
     "output_type": "stream",
     "text": [
      "RAY initialized with [5] cpus.\n"
     ]
    }
   ],
   "source": [
    "n_cpus = 5\n",
    "ray.init(num_cpus=n_cpus)\n",
    "print (\"RAY initialized with [%d] cpus.\"%(n_cpus))"
   ]
  },
  {
   "cell_type": "markdown",
   "metadata": {},
   "source": [
    "### TF Model Creator. Note that `import tensorflor as tf` should be inside the function."
   ]
  },
  {
   "cell_type": "code",
   "execution_count": 3,
   "metadata": {},
   "outputs": [],
   "source": [
    "def create_model(x_dim,y_dim):\n",
    "    # import tensorflow as tf\n",
    "    import tensorflow as tf\n",
    "    \n",
    "    # Build a simple two-layer model\n",
    "    x_ph = tf.placeholder(tf.float32,shape=[None,x_dim])\n",
    "    with tf.variable_scope('main'):\n",
    "        net = tf.layers.dense(inputs=x_ph,units=32,activation=tf.nn.relu)\n",
    "        y = tf.layers.dense(inputs=net,units=y_dim,activation=None)\n",
    "    def get_vars(scope):\n",
    "        return [x for x in tf.compat.v1.global_variables() if scope in x.name]\n",
    "    g_vars = get_vars('main')\n",
    "    \n",
    "    # Have own session\n",
    "    config = tf.ConfigProto()\n",
    "    config.gpu_options.allow_growth = True\n",
    "    sess = tf.Session(config=config)\n",
    "    \n",
    "    # Initialize weights\n",
    "    sess.run(tf.global_variables_initializer())\n",
    "    return x_ph,y,g_vars,sess"
   ]
  },
  {
   "cell_type": "markdown",
   "metadata": {},
   "source": [
    "### Rollout Worker with a TF Model inside"
   ]
  },
  {
   "cell_type": "code",
   "execution_count": 4,
   "metadata": {},
   "outputs": [],
   "source": [
    "@ray.remote\n",
    "class RolloutWorkerClass(object):\n",
    "    def __init__(self,worker_id=0,x_dim=5,y_dim=2):\n",
    "        self.worker_id = worker_id\n",
    "        # Make TF Model\n",
    "        self.x_ph,self.y,self.g_vars,self.sess = create_model(x_dim=x_dim,y_dim=y_dim)\n",
    "    def get_weights(self):\n",
    "        \"\"\"\n",
    "        Get weights of 'g_vars'\n",
    "        \"\"\"\n",
    "        return self.sess.run(self.g_vars)\n",
    "    def set_weights(self,weight_list):\n",
    "        \"\"\"\n",
    "        Set weights of 'g_vars'\n",
    "        \"\"\"\n",
    "        for g_idx,g_var in enumerate(self.g_vars):\n",
    "            self.sess.run(tf.assign(g_var,weight_list[g_idx]))\n",
    "    def rollout(self,x):\n",
    "        return self.sess.run(self.y,feed_dict={self.x_ph:x})"
   ]
  },
  {
   "cell_type": "markdown",
   "metadata": {},
   "source": [
    "### Initialized Workers"
   ]
  },
  {
   "cell_type": "code",
   "execution_count": 5,
   "metadata": {
    "scrolled": true
   },
   "outputs": [
    {
     "name": "stdout",
     "output_type": "stream",
     "text": [
      "[5] workers initialized.\n"
     ]
    }
   ],
   "source": [
    "x_dim,y_dim = 64,8\n",
    "n_workers = 5\n",
    "workers = [RolloutWorkerClass.remote(worker_id=i,x_dim=x_dim,y_dim=y_dim) for i in range(n_workers)]\n",
    "print (\"[%d] workers initialized.\"%(n_workers))"
   ]
  },
  {
   "cell_type": "markdown",
   "metadata": {},
   "source": [
    "### Initialize an external TF model whose weights will be shared among workers"
   ]
  },
  {
   "cell_type": "code",
   "execution_count": 6,
   "metadata": {},
   "outputs": [],
   "source": [
    "_,_,g_vars,sess = create_model(x_dim=x_dim,y_dim=y_dim)\n",
    "weights = sess.run(g_vars)"
   ]
  },
  {
   "cell_type": "markdown",
   "metadata": {},
   "source": [
    "### Rollouts and Check the results"
   ]
  },
  {
   "cell_type": "code",
   "execution_count": 7,
   "metadata": {},
   "outputs": [],
   "source": [
    "x_rand = np.random.rand(1,x_dim)"
   ]
  },
  {
   "cell_type": "code",
   "execution_count": 8,
   "metadata": {},
   "outputs": [
    {
     "name": "stdout",
     "output_type": "stream",
     "text": [
      "\u001b[2m\u001b[36m(pid=8793)\u001b[0m WARNING:tensorflow:From <ipython-input-3-00d26d89fd58>:8: dense (from tensorflow.python.layers.core) is deprecated and will be removed in a future version.\n",
      "\u001b[2m\u001b[36m(pid=8793)\u001b[0m Instructions for updating:\n",
      "\u001b[2m\u001b[36m(pid=8793)\u001b[0m Use keras.layers.dense instead.\n",
      "\u001b[2m\u001b[36m(pid=8793)\u001b[0m WARNING:tensorflow:From /home/sj/.adt/venv-adt/lib/python3.6/site-packages/tensorflow/python/ops/init_ops.py:1251: calling VarianceScaling.__init__ (from tensorflow.python.ops.init_ops) with dtype is deprecated and will be removed in a future version.\n",
      "\u001b[2m\u001b[36m(pid=8793)\u001b[0m Instructions for updating:\n",
      "\u001b[2m\u001b[36m(pid=8793)\u001b[0m Call initializer instance with the dtype argument instead of passing it to the constructor\n",
      "\u001b[2m\u001b[36m(pid=8789)\u001b[0m WARNING:tensorflow:From <ipython-input-3-00d26d89fd58>:8: dense (from tensorflow.python.layers.core) is deprecated and will be removed in a future version.\n",
      "\u001b[2m\u001b[36m(pid=8789)\u001b[0m Instructions for updating:\n",
      "\u001b[2m\u001b[36m(pid=8789)\u001b[0m Use keras.layers.dense instead.\n",
      "\u001b[2m\u001b[36m(pid=8789)\u001b[0m WARNING:tensorflow:From /home/sj/.adt/venv-adt/lib/python3.6/site-packages/tensorflow/python/ops/init_ops.py:1251: calling VarianceScaling.__init__ (from tensorflow.python.ops.init_ops) with dtype is deprecated and will be removed in a future version.\n",
      "\u001b[2m\u001b[36m(pid=8789)\u001b[0m Instructions for updating:\n",
      "\u001b[2m\u001b[36m(pid=8789)\u001b[0m Call initializer instance with the dtype argument instead of passing it to the constructor\n",
      "\u001b[2m\u001b[36m(pid=8792)\u001b[0m WARNING:tensorflow:From <ipython-input-3-00d26d89fd58>:8: dense (from tensorflow.python.layers.core) is deprecated and will be removed in a future version.\n",
      "\u001b[2m\u001b[36m(pid=8792)\u001b[0m Instructions for updating:\n",
      "\u001b[2m\u001b[36m(pid=8792)\u001b[0m Use keras.layers.dense instead.\n",
      "\u001b[2m\u001b[36m(pid=8792)\u001b[0m WARNING:tensorflow:From /home/sj/.adt/venv-adt/lib/python3.6/site-packages/tensorflow/python/ops/init_ops.py:1251: calling VarianceScaling.__init__ (from tensorflow.python.ops.init_ops) with dtype is deprecated and will be removed in a future version.\n",
      "\u001b[2m\u001b[36m(pid=8792)\u001b[0m Instructions for updating:\n",
      "\u001b[2m\u001b[36m(pid=8792)\u001b[0m Call initializer instance with the dtype argument instead of passing it to the constructor\n",
      "\u001b[2m\u001b[36m(pid=8790)\u001b[0m WARNING:tensorflow:From <ipython-input-3-00d26d89fd58>:8: dense (from tensorflow.python.layers.core) is deprecated and will be removed in a future version.\n",
      "\u001b[2m\u001b[36m(pid=8790)\u001b[0m Instructions for updating:\n",
      "\u001b[2m\u001b[36m(pid=8790)\u001b[0m Use keras.layers.dense instead.\n",
      "\u001b[2m\u001b[36m(pid=8790)\u001b[0m WARNING:tensorflow:From /home/sj/.adt/venv-adt/lib/python3.6/site-packages/tensorflow/python/ops/init_ops.py:1251: calling VarianceScaling.__init__ (from tensorflow.python.ops.init_ops) with dtype is deprecated and will be removed in a future version.\n",
      "\u001b[2m\u001b[36m(pid=8790)\u001b[0m Instructions for updating:\n",
      "\u001b[2m\u001b[36m(pid=8790)\u001b[0m Call initializer instance with the dtype argument instead of passing it to the constructor\n",
      "\u001b[2m\u001b[36m(pid=8791)\u001b[0m WARNING:tensorflow:From <ipython-input-3-00d26d89fd58>:8: dense (from tensorflow.python.layers.core) is deprecated and will be removed in a future version.\n",
      "\u001b[2m\u001b[36m(pid=8791)\u001b[0m Instructions for updating:\n",
      "\u001b[2m\u001b[36m(pid=8791)\u001b[0m Use keras.layers.dense instead.\n",
      "\u001b[2m\u001b[36m(pid=8791)\u001b[0m WARNING:tensorflow:From /home/sj/.adt/venv-adt/lib/python3.6/site-packages/tensorflow/python/ops/init_ops.py:1251: calling VarianceScaling.__init__ (from tensorflow.python.ops.init_ops) with dtype is deprecated and will be removed in a future version.\n",
      "\u001b[2m\u001b[36m(pid=8791)\u001b[0m Instructions for updating:\n",
      "\u001b[2m\u001b[36m(pid=8791)\u001b[0m Call initializer instance with the dtype argument instead of passing it to the constructor\n"
     ]
    }
   ],
   "source": [
    "rollout_list = [worker.rollout.remote(x=x_rand) for worker in workers] # non-block\n",
    "rollout_res_list = ray.get(rollout_list)"
   ]
  },
  {
   "cell_type": "markdown",
   "metadata": {},
   "source": [
    "# All Rollout results are DIFFERENT as weights are all different!"
   ]
  },
  {
   "cell_type": "code",
   "execution_count": 9,
   "metadata": {},
   "outputs": [
    {
     "name": "stdout",
     "output_type": "stream",
     "text": [
      "Rollout result of [0] worker is:\n",
      " [[-0.3  -0.36 -0.23 -0.92 -0.14  1.02  0.42  0.4 ]]\n",
      "Rollout result of [1] worker is:\n",
      " [[-0.2  -0.52 -0.14  0.18 -0.28  0.16 -1.03 -0.04]]\n",
      "Rollout result of [2] worker is:\n",
      " [[ 0.37 -0.9  -0.31  0.1  -0.63 -0.11 -0.09  0.77]]\n",
      "Rollout result of [3] worker is:\n",
      " [[-0.59 -0.5  -0.32 -0.11 -0.52  1.13  0.23  0.21]]\n",
      "Rollout result of [4] worker is:\n",
      " [[ 0.3   0.02  1.38 -0.16 -0.02  0.63 -0.5  -0.12]]\n"
     ]
    }
   ],
   "source": [
    "for r_idx,rollout_res in enumerate(rollout_res_list):\n",
    "    print (\"Rollout result of [%d] worker is:\\n %s\"%(r_idx,rollout_res))"
   ]
  },
  {
   "cell_type": "code",
   "execution_count": null,
   "metadata": {},
   "outputs": [],
   "source": []
  },
  {
   "cell_type": "markdown",
   "metadata": {},
   "source": [
    "# Assign the same weights to all workers "
   ]
  },
  {
   "cell_type": "code",
   "execution_count": 10,
   "metadata": {},
   "outputs": [],
   "source": [
    "set_weights_list = [worker.set_weights.remote(weights) for worker in workers] # non-block\n",
    "get_weights_list = [worker.get_weights.remote() for worker in workers] # non-block\n",
    "weights_list = ray.get(get_weights_list)"
   ]
  },
  {
   "cell_type": "markdown",
   "metadata": {},
   "source": [
    "### Rollouts and Check the results"
   ]
  },
  {
   "cell_type": "code",
   "execution_count": 11,
   "metadata": {},
   "outputs": [],
   "source": [
    "rollout_list = [worker.rollout.remote(x=x_rand) for worker in workers] # non-block\n",
    "rollout_res_list = ray.get(rollout_list)"
   ]
  },
  {
   "cell_type": "code",
   "execution_count": 12,
   "metadata": {},
   "outputs": [
    {
     "name": "stdout",
     "output_type": "stream",
     "text": [
      "Rollout result of [0] worker is:\n",
      " [[-0.39 -0.58  1.48  0.05  0.88 -0.12  1.06  0.2 ]]\n",
      "Rollout result of [1] worker is:\n",
      " [[-0.39 -0.58  1.48  0.05  0.88 -0.12  1.06  0.2 ]]\n",
      "Rollout result of [2] worker is:\n",
      " [[-0.39 -0.58  1.48  0.05  0.88 -0.12  1.06  0.2 ]]\n",
      "Rollout result of [3] worker is:\n",
      " [[-0.39 -0.58  1.48  0.05  0.88 -0.12  1.06  0.2 ]]\n",
      "Rollout result of [4] worker is:\n",
      " [[-0.39 -0.58  1.48  0.05  0.88 -0.12  1.06  0.2 ]]\n"
     ]
    }
   ],
   "source": [
    "for r_idx,rollout_res in enumerate(rollout_res_list):\n",
    "    print (\"Rollout result of [%d] worker is:\\n %s\"%(r_idx,rollout_res))"
   ]
  },
  {
   "cell_type": "markdown",
   "metadata": {},
   "source": [
    "### All the Rollout resutls are the SAME!"
   ]
  },
  {
   "cell_type": "code",
   "execution_count": null,
   "metadata": {},
   "outputs": [],
   "source": []
  },
  {
   "cell_type": "markdown",
   "metadata": {},
   "source": [
    "### Shutdown RAY"
   ]
  },
  {
   "cell_type": "code",
   "execution_count": 13,
   "metadata": {},
   "outputs": [
    {
     "name": "stdout",
     "output_type": "stream",
     "text": [
      "RAY shutdown.\n"
     ]
    }
   ],
   "source": [
    "ray.shutdown()\n",
    "print (\"RAY shutdown.\")"
   ]
  },
  {
   "cell_type": "code",
   "execution_count": null,
   "metadata": {},
   "outputs": [],
   "source": []
  }
 ],
 "metadata": {
  "kernelspec": {
   "display_name": "Python 3",
   "language": "python",
   "name": "python3"
  },
  "language_info": {
   "codemirror_mode": {
    "name": "ipython",
    "version": 3
   },
   "file_extension": ".py",
   "mimetype": "text/x-python",
   "name": "python",
   "nbconvert_exporter": "python",
   "pygments_lexer": "ipython3",
   "version": "3.6.8"
  }
 },
 "nbformat": 4,
 "nbformat_minor": 4
}
