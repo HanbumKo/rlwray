{
 "cells": [
  {
   "cell_type": "markdown",
   "metadata": {},
   "source": [
    "# SAC with CustomADTEnvContinuous"
   ]
  },
  {
   "cell_type": "code",
   "execution_count": 1,
   "metadata": {},
   "outputs": [
    {
     "name": "stdout",
     "output_type": "stream",
     "text": [
      "Packaged loaded. TF version is [1.14.0].\n"
     ]
    }
   ],
   "source": [
    "import datetime,gym,os,time,os,psutil,ray\n",
    "import numpy as np\n",
    "import tensorflow as tf\n",
    "from util import gpu_sess,suppress_tf_warning,tic,toc\n",
    "from sac import ReplayBuffer,create_sac_model,create_sac_graph,\\\n",
    "    save_sac_model_and_buffers,restore_sac_model_and_buffers\n",
    "np.set_printoptions(precision=2)\n",
    "suppress_tf_warning() # suppress warning \n",
    "gym.logger.set_level(40) # gym logger \n",
    "\n",
    "from episci.environment_wrappers.tactical_action_adt_env_continuous import CustomADTEnvContinuous\n",
    "from episci.agents.utils.constants import Agents, RewardType\n",
    "print (\"Packaged loaded. TF version is [%s].\"%(tf.__version__))"
   ]
  },
  {
   "cell_type": "markdown",
   "metadata": {},
   "source": [
    "### Rollout Worker"
   ]
  },
  {
   "cell_type": "code",
   "execution_count": 2,
   "metadata": {},
   "outputs": [],
   "source": [
    "def get_env():\n",
    "    from episci.environment_wrappers.tactical_action_adt_env_continuous import CustomADTEnvContinuous\n",
    "    from episci.agents.utils.constants import Agents, RewardType\n",
    "    \n",
    "    red_distribution = {\n",
    "        Agents.SPOT_4G: 0.15,\n",
    "        Agents.SPOT_5G: 0.30,\n",
    "        Agents.SPOT_RANDOM: 0.50,\n",
    "        Agents.EXPERT_SYSTEM_TRIAL_2: 0.75,\n",
    "        Agents.EXPERT_SYSTEM_TRIAL_3_SCRIMMAGE_4: 1.0\n",
    "    }\n",
    "    env_config = {\n",
    "        \"red_distribution\": red_distribution,\n",
    "        \"reward_type\": RewardType.SHAPED\n",
    "    }\n",
    "    return CustomADTEnvContinuous(env_config)\n",
    "\n",
    "def get_eval_env():\n",
    "    # from episci.environment_wrappers.tactical_action_adt_env_continuous import CustomADTEnvContinuous\n",
    "    # from episci.agents.utils.constants import Agents, RewardType\n",
    "    red_distribution = {\n",
    "        Agents.SPOT_4G: 0.15,\n",
    "        Agents.SPOT_5G: 0.30,\n",
    "        Agents.SPOT_RANDOM: 0.50,\n",
    "        Agents.EXPERT_SYSTEM_TRIAL_2: 0.75,\n",
    "        Agents.EXPERT_SYSTEM_TRIAL_3_SCRIMMAGE_4: 1.0\n",
    "    }\n",
    "    env_config = {\n",
    "        \"red_distribution\": red_distribution,\n",
    "        \"reward_type\": RewardType.SHAPED\n",
    "    }\n",
    "    return CustomADTEnvContinuous(env_config)\n"
   ]
  },
  {
   "cell_type": "code",
   "execution_count": 3,
   "metadata": {},
   "outputs": [
    {
     "name": "stdout",
     "output_type": "stream",
     "text": [
      "Rollout worker classes (with and without RAY) ready.\n"
     ]
    }
   ],
   "source": [
    "hdims = [128,32]\n",
    "\n",
    "class RolloutWorkerClass(object):\n",
    "    \"\"\"\n",
    "    Worker without RAY (for update purposes)\n",
    "    \"\"\"\n",
    "    def __init__(self,lr=1e-3,gamma=0.99,alpha=0.1,polyak=0.995,seed=1):\n",
    "        self.seed = seed\n",
    "        # Each worker should maintain its own environment\n",
    "        from util import suppress_tf_warning\n",
    "        suppress_tf_warning() # suppress TF warnings\n",
    "        self.env = get_eval_env()\n",
    "        odim,adim = self.env.observation_space.shape[0],self.env.action_space.shape[0]\n",
    "        self.odim = odim\n",
    "        self.adim = adim\n",
    "        _ = self.env.reset()\n",
    "        \n",
    "        # Create SAC model and computational graph \n",
    "        self.model,self.sess = create_sac_model(\n",
    "            odim=self.odim,adim=self.adim,hdims=hdims)\n",
    "        self.step_ops,self.target_init = \\\n",
    "            create_sac_graph(self.model,lr=lr,gamma=gamma,alpha=alpha,polyak=polyak)\n",
    "        \n",
    "        # Initialize model \n",
    "        tf.set_random_seed(self.seed)\n",
    "        np.random.seed(self.seed)\n",
    "        self.sess.run(tf.global_variables_initializer())\n",
    "        self.sess.run(self.target_init)\n",
    "    \n",
    "    def get_action(self,o,deterministic=False):\n",
    "        act_op = self.model['mu'] if deterministic else self.model['pi']\n",
    "        return self.sess.run(act_op, feed_dict={self.model['o_ph']:o.reshape(1,-1)})[0]\n",
    "\n",
    "    def get_weights(self):\n",
    "        \"\"\"\n",
    "        Get weights\n",
    "        \"\"\"\n",
    "        weight_vals = self.sess.run(self.model['main_vars'])\n",
    "        return weight_vals\n",
    "    \n",
    "@ray.remote\n",
    "class RayRolloutWorkerClass(object):\n",
    "    \"\"\"\n",
    "    Rollout Worker with RAY\n",
    "    \"\"\"\n",
    "    def __init__(self,worker_id=0,ep_len_rollout=1000):\n",
    "        # Parse\n",
    "        self.worker_id = worker_id\n",
    "        self.ep_len_rollout = ep_len_rollout\n",
    "        # Each worker should maintain its own environment\n",
    "        from util import suppress_tf_warning\n",
    "        suppress_tf_warning() # suppress TF warnings\n",
    "        self.env = get_env()\n",
    "        odim,adim = self.env.observation_space.shape[0],self.env.action_space.shape[0]\n",
    "        self.odim = odim\n",
    "        self.adim = adim\n",
    "        _ = self.env.reset()\n",
    "        \n",
    "        # Replay buffers to pass\n",
    "        self.o_buffer = np.zeros((self.ep_len_rollout,self.odim))\n",
    "        self.a_buffer = np.zeros((self.ep_len_rollout,self.adim))\n",
    "        self.r_buffer = np.zeros((self.ep_len_rollout))\n",
    "        self.o2_buffer = np.zeros((self.ep_len_rollout,self.odim))\n",
    "        self.d_buffer = np.zeros((self.ep_len_rollout))\n",
    "        \n",
    "        # Create SAC model\n",
    "        self.model,self.sess = create_sac_model(\n",
    "            odim=self.odim,adim=self.adim,hdims=hdims)\n",
    "        self.sess.run(tf.global_variables_initializer())\n",
    "        print (\"Ray Worker [%d] Ready.\"%(self.worker_id))\n",
    "        \n",
    "        # Flag to initialize assign operations for 'set_weights()'\n",
    "        self.FIRST_SET_FLAG = True\n",
    "        \n",
    "        # Flag to initialize rollout\n",
    "        self.FIRST_ROLLOUT_FLAG = True\n",
    "        \n",
    "    def get_action(self,o,deterministic=False):\n",
    "        act_op = self.model['mu'] if deterministic else self.model['pi']\n",
    "        return self.sess.run(act_op, feed_dict={self.model['o_ph']:o.reshape(1,-1)})[0]\n",
    "    \n",
    "    def set_weights(self,weight_vals):\n",
    "        \"\"\"\n",
    "        Set weights without memory leakage\n",
    "        \"\"\"\n",
    "        if self.FIRST_SET_FLAG:\n",
    "            self.FIRST_SET_FLAG = False\n",
    "            self.assign_placeholders = []\n",
    "            self.assign_ops = []\n",
    "            for w_idx,weight_tf_var in enumerate(self.model['main_vars']):\n",
    "                a = weight_tf_var\n",
    "                assign_placeholder = tf.placeholder(a.dtype, shape=a.get_shape())\n",
    "                assign_op = a.assign(assign_placeholder)\n",
    "                self.assign_placeholders.append(assign_placeholder)\n",
    "                self.assign_ops.append(assign_op)\n",
    "        for w_idx,weight_tf_var in enumerate(self.model['main_vars']):\n",
    "            # Memory-leakage-free assign (hopefully)\n",
    "            self.sess.run(self.assign_ops[w_idx],\n",
    "                          {self.assign_placeholders[w_idx]:weight_vals[w_idx]})\n",
    "            \n",
    "    def rollout(self):\n",
    "        \"\"\"\n",
    "        Rollout\n",
    "        \"\"\"\n",
    "        if self.FIRST_ROLLOUT_FLAG:\n",
    "            self.FIRST_ROLLOUT_FLAG = False\n",
    "            self.o = self.env.reset() # reset environment\n",
    "        # Loop\n",
    "        for t in range(ep_len_rollout):\n",
    "            self.a = self.get_action(self.o,deterministic=False) \n",
    "            self.o2,self.r,self.d,_ = self.env.step(self.a)\n",
    "            # Append\n",
    "            self.o_buffer[t,:] = self.o\n",
    "            self.a_buffer[t,:] = self.a\n",
    "            self.r_buffer[t] = self.r\n",
    "            self.o2_buffer[t,:] = self.o2\n",
    "            self.d_buffer[t] = self.d\n",
    "            # Save next state \n",
    "            self.o = self.o2\n",
    "            if self.d: self.o = self.env.reset() # reset when done \n",
    "        return self.o_buffer,self.a_buffer,self.r_buffer,self.o2_buffer,self.d_buffer\n",
    "    \n",
    "print (\"Rollout worker classes (with and without RAY) ready.\")"
   ]
  },
  {
   "cell_type": "markdown",
   "metadata": {},
   "source": [
    "### Hyperparameters"
   ]
  },
  {
   "cell_type": "code",
   "execution_count": 4,
   "metadata": {},
   "outputs": [],
   "source": [
    "n_cpu = 15\n",
    "n_workers = 15\n",
    "total_steps,evaluate_every = 50000,100\n",
    "ep_len_rollout = 50*60 # 1min rollout\n",
    "batch_size,update_count = 128,ep_len_rollout*n_workers\n",
    "num_eval,max_ep_len_eval = 5,15e3"
   ]
  },
  {
   "cell_type": "markdown",
   "metadata": {},
   "source": [
    "### Initialize Workers"
   ]
  },
  {
   "cell_type": "code",
   "execution_count": 5,
   "metadata": {},
   "outputs": [
    {
     "name": "stderr",
     "output_type": "stream",
     "text": [
      "2020-06-24 11:34:03,740\tWARNING services.py:586 -- setpgrp failed, processes may not be cleaned up properly: [Errno 1] Operation not permitted.\n",
      "2020-06-24 11:34:03,743\tINFO resource_spec.py:212 -- Starting Ray with 4.98 GiB memory available for workers and up to 10.0 GiB for objects. You can adjust these settings with ray.init(memory=<bytes>, object_store_memory=<bytes>).\n",
      "2020-06-24 11:34:04,128\tINFO services.py:1078 -- View the Ray dashboard at \u001b[1m\u001b[32mlocalhost:8265\u001b[39m\u001b[22m\n"
     ]
    },
    {
     "name": "stdout",
     "output_type": "stream",
     "text": [
      "RAY initialized with [15] cpus and [15] workers.\n"
     ]
    }
   ],
   "source": [
    "ray.init(num_cpus=n_cpu,\n",
    "         memory = 5*1024*1024*1024,\n",
    "         object_store_memory = 10*1024*1024*1024,\n",
    "         driver_object_store_memory = 5*1024*1024*1024)\n",
    "tf.reset_default_graph()\n",
    "R = RolloutWorkerClass(lr=1e-3,gamma=0.99,alpha=1.0,polyak=0.995,seed=0)\n",
    "workers = [RayRolloutWorkerClass.remote(worker_id=i,ep_len_rollout=ep_len_rollout) \n",
    "           for i in range(n_workers)]\n",
    "print (\"RAY initialized with [%d] cpus and [%d] workers.\"%\n",
    "       (n_cpu,n_workers))"
   ]
  },
  {
   "cell_type": "code",
   "execution_count": 6,
   "metadata": {},
   "outputs": [],
   "source": [
    "time.sleep(1)"
   ]
  },
  {
   "cell_type": "markdown",
   "metadata": {},
   "source": [
    "### Replay Buffers"
   ]
  },
  {
   "cell_type": "code",
   "execution_count": 7,
   "metadata": {},
   "outputs": [],
   "source": [
    "replay_buffer_long = ReplayBuffer(odim=R.odim,adim=R.adim,size=int(1e6))\n",
    "replay_buffer_short = ReplayBuffer(odim=R.odim,adim=R.adim,size=int(1e5))"
   ]
  },
  {
   "cell_type": "markdown",
   "metadata": {},
   "source": [
    "### Loop"
   ]
  },
  {
   "cell_type": "code",
   "execution_count": null,
   "metadata": {
    "scrolled": true
   },
   "outputs": [
    {
     "name": "stdout",
     "output_type": "stream",
     "text": [
      "\u001b[2m\u001b[36m(pid=25536)\u001b[0m \n",
      "\u001b[2m\u001b[36m(pid=25536)\u001b[0m \n",
      "\u001b[2m\u001b[36m(pid=25536)\u001b[0m      JSBSim Flight Dynamics Model v1.1.0.dev1 May 27 2020 21:44:14\n",
      "\u001b[2m\u001b[36m(pid=25534)\u001b[0m \n",
      "\u001b[2m\u001b[36m(pid=25534)\u001b[0m \n",
      "\u001b[2m\u001b[36m(pid=25534)\u001b[0m      JSBSim Flight Dynamics Model v1.1.0.dev1 May 27 2020 21:44:14\n",
      "\u001b[2m\u001b[36m(pid=25523)\u001b[0m \n",
      "\u001b[2m\u001b[36m(pid=25523)\u001b[0m \n",
      "\u001b[2m\u001b[36m(pid=25523)\u001b[0m      JSBSim Flight Dynamics Model v1.1.0.dev1 May 27 2020 21:44:14\n",
      "\u001b[2m\u001b[36m(pid=25536)\u001b[0m /home/sj/.adt/venv-adt/lib/python3.6/site-packages/gym/logger.py:30: UserWarning: \u001b[33mWARN: Box bound precision lowered by casting to float32\u001b[0m\n",
      "\u001b[2m\u001b[36m(pid=25536)\u001b[0m   warnings.warn(colorize('%s: %s'%('WARN', msg % args), 'yellow'))\n",
      "\u001b[2m\u001b[36m(pid=25531)\u001b[0m \n",
      "\u001b[2m\u001b[36m(pid=25531)\u001b[0m \n",
      "\u001b[2m\u001b[36m(pid=25531)\u001b[0m      JSBSim Flight Dynamics Model v1.1.0.dev1 May 27 2020 21:44:14\n",
      "\u001b[2m\u001b[36m(pid=25539)\u001b[0m \n",
      "\u001b[2m\u001b[36m(pid=25539)\u001b[0m \n",
      "\u001b[2m\u001b[36m(pid=25539)\u001b[0m      JSBSim Flight Dynamics Model v1.1.0.dev1 May 27 2020 21:44:14\n",
      "\u001b[2m\u001b[36m(pid=25531)\u001b[0m /home/sj/.adt/venv-adt/lib/python3.6/site-packages/gym/logger.py:30: UserWarning: \u001b[33mWARN: Box bound precision lowered by casting to float32\u001b[0m\n",
      "\u001b[2m\u001b[36m(pid=25531)\u001b[0m   warnings.warn(colorize('%s: %s'%('WARN', msg % args), 'yellow'))\n",
      "\u001b[2m\u001b[36m(pid=25539)\u001b[0m /home/sj/.adt/venv-adt/lib/python3.6/site-packages/gym/logger.py:30: UserWarning: \u001b[33mWARN: Box bound precision lowered by casting to float32\u001b[0m\n",
      "\u001b[2m\u001b[36m(pid=25539)\u001b[0m   warnings.warn(colorize('%s: %s'%('WARN', msg % args), 'yellow'))\n",
      "\u001b[2m\u001b[36m(pid=25523)\u001b[0m /home/sj/.adt/venv-adt/lib/python3.6/site-packages/gym/logger.py:30: UserWarning: \u001b[33mWARN: Box bound precision lowered by casting to float32\u001b[0m\n",
      "\u001b[2m\u001b[36m(pid=25523)\u001b[0m   warnings.warn(colorize('%s: %s'%('WARN', msg % args), 'yellow'))\n",
      "\u001b[2m\u001b[36m(pid=25534)\u001b[0m /home/sj/.adt/venv-adt/lib/python3.6/site-packages/gym/logger.py:30: UserWarning: \u001b[33mWARN: Box bound precision lowered by casting to float32\u001b[0m\n",
      "\u001b[2m\u001b[36m(pid=25534)\u001b[0m   warnings.warn(colorize('%s: %s'%('WARN', msg % args), 'yellow'))\n",
      "\u001b[2m\u001b[36m(pid=25535)\u001b[0m \n",
      "\u001b[2m\u001b[36m(pid=25535)\u001b[0m \n",
      "\u001b[2m\u001b[36m(pid=25535)\u001b[0m      JSBSim Flight Dynamics Model v1.1.0.dev1 May 27 2020 21:44:14\n",
      "\u001b[2m\u001b[36m(pid=25530)\u001b[0m \n",
      "\u001b[2m\u001b[36m(pid=25530)\u001b[0m \n",
      "\u001b[2m\u001b[36m(pid=25530)\u001b[0m      JSBSim Flight Dynamics Model v1.1.0.dev1 May 27 2020 21:44:14\n",
      "\u001b[2m\u001b[36m(pid=25528)\u001b[0m \n",
      "\u001b[2m\u001b[36m(pid=25528)\u001b[0m \n",
      "\u001b[2m\u001b[36m(pid=25528)\u001b[0m      JSBSim Flight Dynamics Model v1.1.0.dev1 May 27 2020 21:44:14\n",
      "\u001b[2m\u001b[36m(pid=25529)\u001b[0m \n",
      "\u001b[2m\u001b[36m(pid=25529)\u001b[0m \n",
      "\u001b[2m\u001b[36m(pid=25529)\u001b[0m      JSBSim Flight Dynamics Model v1.1.0.dev1 May 27 2020 21:44:14\n",
      "\u001b[2m\u001b[36m(pid=25530)\u001b[0m /home/sj/.adt/venv-adt/lib/python3.6/site-packages/gym/logger.py:30: UserWarning: \u001b[33mWARN: Box bound precision lowered by casting to float32\u001b[0m\n",
      "\u001b[2m\u001b[36m(pid=25530)\u001b[0m   warnings.warn(colorize('%s: %s'%('WARN', msg % args), 'yellow'))\n",
      "\u001b[2m\u001b[36m(pid=25535)\u001b[0m /home/sj/.adt/venv-adt/lib/python3.6/site-packages/gym/logger.py:30: UserWarning: \u001b[33mWARN: Box bound precision lowered by casting to float32\u001b[0m\n",
      "\u001b[2m\u001b[36m(pid=25535)\u001b[0m   warnings.warn(colorize('%s: %s'%('WARN', msg % args), 'yellow'))\n",
      "\u001b[2m\u001b[36m(pid=25533)\u001b[0m \n",
      "\u001b[2m\u001b[36m(pid=25533)\u001b[0m \n",
      "\u001b[2m\u001b[36m(pid=25533)\u001b[0m      JSBSim Flight Dynamics Model v1.1.0.dev1 May 27 2020 21:44:14\n",
      "\u001b[2m\u001b[36m(pid=25527)\u001b[0m \n",
      "\u001b[2m\u001b[36m(pid=25527)\u001b[0m \n",
      "\u001b[2m\u001b[36m(pid=25527)\u001b[0m      JSBSim Flight Dynamics Model v1.1.0.dev1 May 27 2020 21:44:14\n",
      "\u001b[2m\u001b[36m(pid=25537)\u001b[0m \n",
      "\u001b[2m\u001b[36m(pid=25537)\u001b[0m \n",
      "\u001b[2m\u001b[36m(pid=25537)\u001b[0m      JSBSim Flight Dynamics Model v1.1.0.dev1 May 27 2020 21:44:14\n",
      "\u001b[2m\u001b[36m(pid=25529)\u001b[0m /home/sj/.adt/venv-adt/lib/python3.6/site-packages/gym/logger.py:30: UserWarning: \u001b[33mWARN: Box bound precision lowered by casting to float32\u001b[0m\n",
      "\u001b[2m\u001b[36m(pid=25529)\u001b[0m   warnings.warn(colorize('%s: %s'%('WARN', msg % args), 'yellow'))\n",
      "\u001b[2m\u001b[36m(pid=25532)\u001b[0m \n",
      "\u001b[2m\u001b[36m(pid=25532)\u001b[0m \n",
      "\u001b[2m\u001b[36m(pid=25532)\u001b[0m      JSBSim Flight Dynamics Model v1.1.0.dev1 May 27 2020 21:44:14\n",
      "\u001b[2m\u001b[36m(pid=25527)\u001b[0m /home/sj/.adt/venv-adt/lib/python3.6/site-packages/gym/logger.py:30: UserWarning: \u001b[33mWARN: Box bound precision lowered by casting to float32\u001b[0m\n",
      "\u001b[2m\u001b[36m(pid=25527)\u001b[0m   warnings.warn(colorize('%s: %s'%('WARN', msg % args), 'yellow'))\n",
      "\u001b[2m\u001b[36m(pid=25528)\u001b[0m /home/sj/.adt/venv-adt/lib/python3.6/site-packages/gym/logger.py:30: UserWarning: \u001b[33mWARN: Box bound precision lowered by casting to float32\u001b[0m\n",
      "\u001b[2m\u001b[36m(pid=25528)\u001b[0m   warnings.warn(colorize('%s: %s'%('WARN', msg % args), 'yellow'))\n",
      "\u001b[2m\u001b[36m(pid=25537)\u001b[0m /home/sj/.adt/venv-adt/lib/python3.6/site-packages/gym/logger.py:30: UserWarning: \u001b[33mWARN: Box bound precision lowered by casting to float32\u001b[0m\n",
      "\u001b[2m\u001b[36m(pid=25537)\u001b[0m   warnings.warn(colorize('%s: %s'%('WARN', msg % args), 'yellow'))\n",
      "\u001b[2m\u001b[36m(pid=25538)\u001b[0m \n",
      "\u001b[2m\u001b[36m(pid=25538)\u001b[0m \n",
      "\u001b[2m\u001b[36m(pid=25538)\u001b[0m      JSBSim Flight Dynamics Model v1.1.0.dev1 May 27 2020 21:44:14\n",
      "\u001b[2m\u001b[36m(pid=25533)\u001b[0m /home/sj/.adt/venv-adt/lib/python3.6/site-packages/gym/logger.py:30: UserWarning: \u001b[33mWARN: Box bound precision lowered by casting to float32\u001b[0m\n",
      "\u001b[2m\u001b[36m(pid=25533)\u001b[0m   warnings.warn(colorize('%s: %s'%('WARN', msg % args), 'yellow'))\n",
      "\u001b[2m\u001b[36m(pid=25526)\u001b[0m \n",
      "\u001b[2m\u001b[36m(pid=25526)\u001b[0m \n",
      "\u001b[2m\u001b[36m(pid=25526)\u001b[0m      JSBSim Flight Dynamics Model v1.1.0.dev1 May 27 2020 21:44:14\n",
      "\u001b[2m\u001b[36m(pid=25532)\u001b[0m /home/sj/.adt/venv-adt/lib/python3.6/site-packages/gym/logger.py:30: UserWarning: \u001b[33mWARN: Box bound precision lowered by casting to float32\u001b[0m\n",
      "\u001b[2m\u001b[36m(pid=25532)\u001b[0m   warnings.warn(colorize('%s: %s'%('WARN', msg % args), 'yellow'))\n",
      "\u001b[2m\u001b[36m(pid=25538)\u001b[0m /home/sj/.adt/venv-adt/lib/python3.6/site-packages/gym/logger.py:30: UserWarning: \u001b[33mWARN: Box bound precision lowered by casting to float32\u001b[0m\n",
      "\u001b[2m\u001b[36m(pid=25538)\u001b[0m   warnings.warn(colorize('%s: %s'%('WARN', msg % args), 'yellow'))\n",
      "\u001b[2m\u001b[36m(pid=25526)\u001b[0m /home/sj/.adt/venv-adt/lib/python3.6/site-packages/gym/logger.py:30: UserWarning: \u001b[33mWARN: Box bound precision lowered by casting to float32\u001b[0m\n",
      "\u001b[2m\u001b[36m(pid=25526)\u001b[0m   warnings.warn(colorize('%s: %s'%('WARN', msg % args), 'yellow'))\n",
      "\u001b[2m\u001b[36m(pid=25536)\u001b[0m Ray Worker [5] Ready.\n",
      "\u001b[2m\u001b[36m(pid=25531)\u001b[0m Ray Worker [11] Ready.\n",
      "\u001b[2m\u001b[36m(pid=25523)\u001b[0m Ray Worker [8] Ready.\n",
      "\u001b[2m\u001b[36m(pid=25539)\u001b[0m Ray Worker [0] Ready.\n",
      "\u001b[2m\u001b[36m(pid=25534)\u001b[0m Ray Worker [6] Ready.\n",
      "\u001b[2m\u001b[36m(pid=25529)\u001b[0m Ray Worker [10] Ready.\n",
      "\u001b[2m\u001b[36m(pid=25527)\u001b[0m Ray Worker [13] Ready.\n",
      "\u001b[2m\u001b[36m(pid=25530)\u001b[0m Ray Worker [12] Ready.\n",
      "\u001b[2m\u001b[36m(pid=25535)\u001b[0m Ray Worker [2] Ready.\n",
      "\u001b[2m\u001b[36m(pid=25533)\u001b[0m Ray Worker [14] Ready.\n",
      "\u001b[2m\u001b[36m(pid=25532)\u001b[0m Ray Worker [3] Ready.\n",
      "\u001b[2m\u001b[36m(pid=25537)\u001b[0m Ray Worker [7] Ready.\n",
      "\u001b[2m\u001b[36m(pid=25528)\u001b[0m Ray Worker [4] Ready.\n",
      "\u001b[2m\u001b[36m(pid=25538)\u001b[0m Ray Worker [1] Ready.\n",
      "\u001b[2m\u001b[36m(pid=25526)\u001b[0m Ray Worker [9] Ready.\n",
      "[Eval. start] step:[1/50000][0.0%] #step:[4.5e+04] time:[00:07:22] ram:[39.8%].\n",
      " [0/5] ep_ret:[100.1565] ep_len:[6456]. blue health:[1.00] red health:[0.00]\n",
      " [1/5] ep_ret:[90.1285] ep_len:[15000]. blue health:[1.00] red health:[0.20]\n",
      " [2/5] ep_ret:[100.2249] ep_len:[3875]. blue health:[1.00] red health:[0.00]\n",
      " [3/5] ep_ret:[-20.0311] ep_len:[15000]. blue health:[0.90] red health:[1.00]\n",
      " [4/5] ep_ret:[104.7827] ep_len:[5362]. blue health:[1.00] red health:[0.00]\n",
      "[Eval. done] time:[00:21:28] ep_ret_avg:[75.052].\n",
      "[../data/net/adt_cont_tactic/model_and_buffers.npz] saved.\n"
     ]
    }
   ],
   "source": [
    "start_time = time.time()\n",
    "n_env_step = 0 # number of environment steps\n",
    "for t in range(int(total_steps)):\n",
    "    esec = time.time()-start_time\n",
    "    \n",
    "    # Synchronize worker weights\n",
    "    weights = R.get_weights()\n",
    "    set_weights_list = [worker.set_weights.remote(weights) for worker in workers] \n",
    "    \n",
    "    # Make rollout and accumulate to Buffers\n",
    "    ops = [worker.rollout.remote() for worker in workers]\n",
    "    rollout_vals = ray.get(ops)\n",
    "    for rollout_val in rollout_vals:\n",
    "        o_buffer,a_buffer,r_buffer,o2_buffer,d_buffer = rollout_val\n",
    "        for i in range(ep_len_rollout):\n",
    "            o,a,r,o2,d = o_buffer[i,:],a_buffer[i,:],r_buffer[i],o2_buffer[i,:],d_buffer[i]\n",
    "            replay_buffer_long.store(o, a, r, o2, d) \n",
    "            replay_buffer_short.store(o, a, r, o2, d) \n",
    "            n_env_step += 1\n",
    "    \n",
    "    # Update\n",
    "    for _ in range(int(update_count)):\n",
    "        batch_long = replay_buffer_long.sample_batch(batch_size//2) \n",
    "        batch_short = replay_buffer_short.sample_batch(batch_size//2) \n",
    "        feed_dict = {R.model['o_ph']: np.concatenate((batch_long['obs1'],batch_short['obs1'])),\n",
    "                     R.model['o2_ph']: np.concatenate((batch_long['obs2'],batch_short['obs2'])),\n",
    "                     R.model['a_ph']: np.concatenate((batch_long['acts'],batch_short['acts'])),\n",
    "                     R.model['r_ph']: np.concatenate((batch_long['rews'],batch_short['rews'])),\n",
    "                     R.model['d_ph']: np.concatenate((batch_long['done'],batch_short['done']))\n",
    "                    }\n",
    "        outs = R.sess.run(R.step_ops, feed_dict)\n",
    "        q1_vals,q2_vals = outs[3],outs[4]\n",
    "    \n",
    "    # Evaluate\n",
    "    if (t == 0) or (((t+1)%evaluate_every) == 0): \n",
    "        ram_percent = psutil.virtual_memory().percent # memory usage\n",
    "        print (\"[Eval. start] step:[%d/%d][%.1f%%] #step:[%.1e] time:[%s] ram:[%.1f%%].\"%\n",
    "               (t+1,total_steps,t/total_steps*100,\n",
    "                n_env_step,\n",
    "                time.strftime(\"%H:%M:%S\", time.gmtime(time.time()-start_time)),\n",
    "                ram_percent)\n",
    "              )\n",
    "        ep_ret_sum = 0\n",
    "        for eval_idx in range(num_eval): \n",
    "            o,d,ep_ret,ep_len = R.env.reset(),False,0,0\n",
    "            while not(d or (ep_len == max_ep_len_eval)):\n",
    "                # tic()\n",
    "                a = R.get_action(o,deterministic=True)\n",
    "                # toc('get_action')\n",
    "                \n",
    "                # tic()\n",
    "                o,r,d,_ = R.env.step(a)\n",
    "                # toc('step')\n",
    "                \n",
    "                ep_ret += r # compute return \n",
    "                ep_len += 1\n",
    "            ep_ret_sum += ep_ret\n",
    "            blue_health,red_health = R.env.blue_health,R.env.red_health\n",
    "            print (\" [%d/%d] ep_ret:[%.4f] ep_len:[%d]. blue health:[%.2f] red health:[%.2f]\"\n",
    "                %(eval_idx,num_eval,ep_ret,ep_len, blue_health,red_health))\n",
    "        ep_ret_avg = ep_ret_sum / num_eval\n",
    "        print (\"[Eval. done] time:[%s] ep_ret_avg:[%.3f].\"%\n",
    "               (time.strftime(\"%H:%M:%S\", time.gmtime(time.time()-start_time)),\n",
    "                ep_ret_avg)\n",
    "              )\n",
    "               \n",
    "        # Save current SAC model and replay buffers \n",
    "        npz_path = '../data/net/adt_cont_tactic/model_and_buffers.npz'\n",
    "        save_sac_model_and_buffers(npz_path,R,replay_buffer_long,replay_buffer_short,VERBOSE=False)\n",
    "\n",
    "print (\"Done.\")"
   ]
  },
  {
   "cell_type": "code",
   "execution_count": null,
   "metadata": {},
   "outputs": [],
   "source": []
  },
  {
   "cell_type": "markdown",
   "metadata": {},
   "source": [
    "### Close"
   ]
  },
  {
   "cell_type": "code",
   "execution_count": null,
   "metadata": {},
   "outputs": [],
   "source": [
    "ray.shutdown()"
   ]
  },
  {
   "cell_type": "code",
   "execution_count": null,
   "metadata": {},
   "outputs": [],
   "source": []
  },
  {
   "cell_type": "markdown",
   "metadata": {},
   "source": [
    "### Save model weights and replay buffers"
   ]
  },
  {
   "cell_type": "code",
   "execution_count": null,
   "metadata": {},
   "outputs": [],
   "source": [
    "# Path to save the npz file \n",
    "npz_path = '../data/net/adt_cont_tactic/model_and_buffers_final.npz'\n",
    "save_sac_model_and_buffers(npz_path,R,replay_buffer_long,replay_buffer_short,VERBOSE=False)"
   ]
  },
  {
   "cell_type": "code",
   "execution_count": null,
   "metadata": {},
   "outputs": [],
   "source": []
  },
  {
   "cell_type": "code",
   "execution_count": null,
   "metadata": {},
   "outputs": [],
   "source": []
  },
  {
   "cell_type": "markdown",
   "metadata": {},
   "source": [
    "### Restore "
   ]
  },
  {
   "cell_type": "code",
   "execution_count": null,
   "metadata": {},
   "outputs": [],
   "source": [
    "npz_path = '../data/net/adt_cont_tactic/model_and_buffers_final.npz'\n",
    "restore_sac_model_and_buffers(npz_path,R,replay_buffer_long,replay_buffer_short,VERBOSE=True)"
   ]
  },
  {
   "cell_type": "code",
   "execution_count": null,
   "metadata": {},
   "outputs": [],
   "source": []
  },
  {
   "cell_type": "markdown",
   "metadata": {},
   "source": [
    "### Test Run"
   ]
  },
  {
   "cell_type": "code",
   "execution_count": null,
   "metadata": {
    "scrolled": true
   },
   "outputs": [],
   "source": [
    "eval_env = get_eval_env()\n",
    "o,d,ep_ret,ep_len = eval_env.reset(),False,0,0\n",
    "while not(d or (ep_len == max_ep_len_eval)):\n",
    "    a = R.get_action(o,deterministic=True)\n",
    "    o,r,d,_ = eval_env.step(a)\n",
    "    ep_ret += r # compute return \n",
    "    ep_len += 1\n",
    "print (\"[Evaluate] ep_ret:[%.4f] ep_len:[%d]\"\n",
    "    %(eval_idx,ep_len))\n",
    "eval_env.close() # close env"
   ]
  },
  {
   "cell_type": "code",
   "execution_count": null,
   "metadata": {},
   "outputs": [],
   "source": []
  }
 ],
 "metadata": {
  "kernelspec": {
   "display_name": "Python 3",
   "language": "python",
   "name": "python3"
  },
  "language_info": {
   "codemirror_mode": {
    "name": "ipython",
    "version": 3
   },
   "file_extension": ".py",
   "mimetype": "text/x-python",
   "name": "python",
   "nbconvert_exporter": "python",
   "pygments_lexer": "ipython3",
   "version": "3.6.8"
  }
 },
 "nbformat": 4,
 "nbformat_minor": 4
}
