{
 "cells": [
  {
   "cell_type": "markdown",
   "metadata": {},
   "source": [
    "# PPO on Ant Bullet <font color='grey'> (*Self-Contained*) </font>"
   ]
  },
  {
   "cell_type": "code",
   "execution_count": 1,
   "metadata": {},
   "outputs": [
    {
     "name": "stdout",
     "output_type": "stream",
     "text": [
      "Packaged loaded. TF version is [1.14.0].\n"
     ]
    }
   ],
   "source": [
    "import datetime,gym,os,pybullet_envs,psutil,time,os\n",
    "import scipy.signal\n",
    "import numpy as np\n",
    "import tensorflow as tf\n",
    "np.set_printoptions(precision=2)\n",
    "os.environ['TF_CPP_MIN_LOG_LEVEL'] = '3'\n",
    "tf.compat.v1.logging.set_verbosity(tf.compat.v1.logging.ERROR)\n",
    "gym.logger.set_level(40)\n",
    "print (\"Packaged loaded. TF version is [%s].\"%(tf.__version__))"
   ]
  },
  {
   "cell_type": "markdown",
   "metadata": {},
   "source": [
    "### Helper Functions"
   ]
  },
  {
   "cell_type": "code",
   "execution_count": 2,
   "metadata": {},
   "outputs": [],
   "source": [
    "def combined_shape(length, shape=None):\n",
    "    if shape is None:\n",
    "        return (length,)\n",
    "    return (length, shape) if np.isscalar(shape) else (length, *shape)\n",
    "\n",
    "def statistics_scalar(x, with_min_and_max=False):\n",
    "    \"\"\"\n",
    "    Get mean/std and optional min/max of scalar x \n",
    "    Args:\n",
    "        x: An array containing samples of the scalar to produce statistics for.\n",
    "        with_min_and_max (bool): If true, return min and max of x in \n",
    "            addition to mean and std.\n",
    "    \"\"\"\n",
    "    x = np.array(x, dtype=np.float32)\n",
    "    global_sum, global_n = np.sum(x), len(x)\n",
    "    mean = global_sum / global_n\n",
    "    global_sum_sq = np.sum((x - mean)**2)\n",
    "    std = np.sqrt(global_sum_sq / global_n)  # compute global std\n",
    "    if with_min_and_max:\n",
    "        global_min = (np.min(x) if len(x) > 0 else np.inf)\n",
    "        global_max = (np.max(x) if len(x) > 0 else -np.inf)\n",
    "        return mean, std, global_min, global_max\n",
    "    return mean, std\n",
    "\n",
    "def discount_cumsum(x, discount):\n",
    "    \"\"\"\n",
    "    Compute discounted cumulative sums of vectors.\n",
    "    input: \n",
    "        vector x, [x0, x1, x2]\n",
    "    output:\n",
    "        [x0 + discount * x1 + discount^2 * x2,  \n",
    "         x1 + discount * x2,\n",
    "         x2]\n",
    "    \"\"\"\n",
    "    return scipy.signal.lfilter([1], [1, float(-discount)], x[::-1], axis=0)[::-1]"
   ]
  },
  {
   "cell_type": "markdown",
   "metadata": {},
   "source": [
    "### PPO Buffer"
   ]
  },
  {
   "cell_type": "code",
   "execution_count": 3,
   "metadata": {},
   "outputs": [],
   "source": [
    "class PPOBuffer:\n",
    "    \"\"\"\n",
    "    A buffer for storing trajectories experienced by a PPO agent interacting\n",
    "    with the environment, and using Generalized Advantage Estimation (GAE-Lambda)\n",
    "    for calculating the advantages of state-action pairs.\n",
    "    \"\"\"\n",
    "    def __init__(self, odim, adim, size=5000, gamma=0.99, lam=0.95):\n",
    "        self.obs_buf = np.zeros(combined_shape(size, odim), dtype=np.float32)\n",
    "        self.act_buf = np.zeros(combined_shape(size, adim), dtype=np.float32)\n",
    "        self.adv_buf = np.zeros(size, dtype=np.float32)\n",
    "        self.rew_buf = np.zeros(size, dtype=np.float32)\n",
    "        self.ret_buf = np.zeros(size, dtype=np.float32)\n",
    "        self.val_buf = np.zeros(size, dtype=np.float32)\n",
    "        self.logp_buf = np.zeros(size, dtype=np.float32)\n",
    "        self.gamma, self.lam = gamma, lam\n",
    "        self.ptr, self.path_start_idx, self.max_size = 0, 0, size\n",
    "\n",
    "    def store(self, obs, act, rew, val, logp):\n",
    "        \"\"\"\n",
    "        Append one timestep of agent-environment interaction to the buffer.\n",
    "        \"\"\"\n",
    "        assert self.ptr < self.max_size     # buffer has to have room so you can store\n",
    "        self.obs_buf[self.ptr] = obs\n",
    "        self.act_buf[self.ptr] = act\n",
    "        self.rew_buf[self.ptr] = rew\n",
    "        self.val_buf[self.ptr] = val\n",
    "        self.logp_buf[self.ptr] = logp\n",
    "        self.ptr += 1\n",
    "\n",
    "    def finish_path(self, last_val=0):\n",
    "        \"\"\"\n",
    "        Call this at the end of a trajectory, or when one gets cut off\n",
    "        by an epoch ending. This looks back in the buffer to where the\n",
    "        trajectory started, and uses rewards and value estimates from\n",
    "        the whole trajectory to compute advantage estimates with GAE-Lambda,\n",
    "        as well as compute the rewards-to-go for each state, to use as\n",
    "        the targets for the value function.\n",
    "\n",
    "        The \"last_val\" argument should be 0 if the trajectory ended\n",
    "        because the agent reached a terminal state (died), and otherwise\n",
    "        should be V(s_T), the value function estimated for the last state.\n",
    "        This allows us to bootstrap the reward-to-go calculation to account\n",
    "        for timesteps beyond the arbitrary episode horizon (or epoch cutoff).\n",
    "        \"\"\"\n",
    "        path_slice = slice(self.path_start_idx, self.ptr)\n",
    "        rews = np.append(self.rew_buf[path_slice], last_val)\n",
    "        vals = np.append(self.val_buf[path_slice], last_val)\n",
    "        \n",
    "        # the next two lines implement GAE-Lambda advantage calculation\n",
    "        deltas = rews[:-1] + self.gamma * vals[1:] - vals[:-1]\n",
    "        self.adv_buf[path_slice] = discount_cumsum(deltas, self.gamma * self.lam)\n",
    "        \n",
    "        # the next line computes rewards-to-go, to be targets for the value function\n",
    "        self.ret_buf[path_slice] = discount_cumsum(rews, self.gamma)[:-1]\n",
    "        \n",
    "        self.path_start_idx = self.ptr\n",
    "\n",
    "    def get(self):\n",
    "        \"\"\"\n",
    "        Call this at the end of an epoch to get all of the data from\n",
    "        the buffer, with advantages appropriately normalized (shifted to have\n",
    "        mean zero and std one). Also, resets some pointers in the buffer.\n",
    "        \"\"\"\n",
    "        assert self.ptr == self.max_size    # buffer has to be full before you can get\n",
    "        self.ptr, self.path_start_idx = 0, 0\n",
    "        # the next two lines implement the advantage normalization trick\n",
    "        adv_mean, adv_std = statistics_scalar(self.adv_buf)\n",
    "        self.adv_buf = (self.adv_buf - adv_mean) / adv_std\n",
    "        return [self.obs_buf, self.act_buf, self.adv_buf, \n",
    "                self.ret_buf, self.logp_buf]"
   ]
  },
  {
   "cell_type": "markdown",
   "metadata": {},
   "source": [
    "### Proximal Policy Optimization"
   ]
  },
  {
   "cell_type": "code",
   "execution_count": 4,
   "metadata": {},
   "outputs": [],
   "source": [
    "def create_ppo_model(env=None,hdims=[256,256]):\n",
    "    \"\"\"\n",
    "    Create PPO Actor-Critic Model (compatible with Ray)\n",
    "    \"\"\"\n",
    "    import tensorflow as tf # make it compatible with Ray actors\n",
    "    from gym.spaces import Box, Discrete\n",
    "    \n",
    "    def mlp(x, hdims=[64,64], actv=tf.nn.relu, output_actv=None):\n",
    "        for h in hdims[:-1]:\n",
    "            x = tf.layers.dense(x, units=h, activation=actv)\n",
    "        return tf.layers.dense(x, units=hdims[-1], activation=output_actv)\n",
    "    \n",
    "    def mlp_categorical_policy(o, a, hdims=[64,64], actv=tf.nn.relu, output_actv=None, action_space=None):\n",
    "        adim = action_space.n\n",
    "        logits = mlp(x=o, hdims=hdims+[adim], actv=actv, output_actv=None)\n",
    "        logp_all = tf.nn.log_softmax(logits)\n",
    "        pi = tf.squeeze(tf.multinomial(logits,1), axis=1)\n",
    "        logp = tf.reduce_sum(tf.one_hot(a, depth=adim) * logp_all, axis=1)\n",
    "        logp_pi = tf.reduce_sum(tf.one_hot(pi, depth=adim) * logp_all, axis=1)\n",
    "        return pi, logp, logp_pi, pi\n",
    "    \n",
    "    def gaussian_likelihood(x, mu, log_std):\n",
    "        EPS = 1e-8\n",
    "        pre_sum = -0.5 * (((x-mu)/(tf.exp(log_std)+EPS))**2 + 2*log_std + np.log(2*np.pi))\n",
    "        return tf.reduce_sum(pre_sum, axis=1)\n",
    "    \n",
    "    def mlp_gaussian_policy(o, a, hdims=[64,64], actv=tf.nn.relu, output_actv=None, action_space=None):\n",
    "        adim = a.shape.as_list()[-1]\n",
    "        mu = mlp(x=o, hdims=hdims+[adim], actv=actv, output_actv=output_actv)\n",
    "        log_std = tf.get_variable(name='log_std', initializer=-0.5*np.ones(adim, dtype=np.float32))\n",
    "        std = tf.exp(log_std)\n",
    "        pi = mu + tf.random_normal(tf.shape(mu)) * std\n",
    "        logp = gaussian_likelihood(a, mu, log_std)\n",
    "        logp_pi = gaussian_likelihood(pi, mu, log_std)\n",
    "        return pi, logp, logp_pi, mu # <= mu is added for the deterministic policy\n",
    "    \n",
    "    def mlp_actor_critic(o, a, hdims=[64,64], actv=tf.nn.relu, \n",
    "                     output_actv=None, policy=None, action_space=None):\n",
    "        if policy is None and isinstance(action_space, Box):\n",
    "            policy = mlp_gaussian_policy\n",
    "        elif policy is None and isinstance(action_space, Discrete):\n",
    "            policy = mlp_categorical_policy\n",
    "\n",
    "        with tf.variable_scope('pi'):\n",
    "            pi, logp, logp_pi, mu = policy(\n",
    "                o=o, a=a, hdims=hdims, actv=actv, output_actv=output_actv, action_space=action_space)\n",
    "        with tf.variable_scope('v'):\n",
    "            v = tf.squeeze(mlp(x=o, hdims=hdims+[1], actv=actv, output_actv=None), axis=1)\n",
    "        return pi, logp, logp_pi, v, mu\n",
    "    \n",
    "    def placeholder(dim=None):\n",
    "        return tf.placeholder(dtype=tf.float32,shape=(None,dim) if dim else (None,))\n",
    "    \n",
    "    def placeholders(*args):\n",
    "        \"\"\"\n",
    "        Usage: a_ph,b_ph,c_ph = placeholders(adim,bdim,None)\n",
    "        \"\"\"\n",
    "        return [placeholder(dim) for dim in args]\n",
    "    \n",
    "    # Have own session\n",
    "    config = tf.ConfigProto()\n",
    "    config.gpu_options.allow_growth = True\n",
    "    sess = tf.Session(config=config)\n",
    "    \n",
    "    # Placeholders\n",
    "    odim = env.observation_space.shape[0]\n",
    "    adim = env.action_space.shape[0]\n",
    "    o_ph,a_ph,adv_ph,ret_ph,logp_old_ph = placeholders(odim,adim,None,None,None)\n",
    "    \n",
    "    # Actor-critic model \n",
    "    ac_kwargs = dict()\n",
    "    ac_kwargs['action_space'] = env.action_space\n",
    "    actor_critic = mlp_actor_critic\n",
    "    pi,logp,logp_pi,v,mu = actor_critic(o_ph, a_ph, **ac_kwargs)\n",
    "    \n",
    "    # Need all placeholders in *this* order later (to zip with data from buffer)\n",
    "    all_phs = [o_ph, a_ph, adv_ph, ret_ph, logp_old_ph]\n",
    "    \n",
    "    # Every step, get: action, value, and logprob\n",
    "    get_action_ops = [pi, v, logp_pi]\n",
    "    \n",
    "    # Accumulate model\n",
    "    model = {'o_ph':o_ph,'a_ph':a_ph,'adv_ph':adv_ph,'ret_ph':ret_ph,'logp_old_ph':logp_old_ph,\n",
    "             'pi':pi,'logp':logp,'logp_pi':logp_pi,'v':v,'mu':mu,\n",
    "             'all_phs':all_phs,'get_action_ops':get_action_ops}\n",
    "    return model,sess"
   ]
  },
  {
   "cell_type": "code",
   "execution_count": 5,
   "metadata": {},
   "outputs": [],
   "source": [
    "def create_ppo_graph(model,clip_ratio=0.2,pi_lr=3e-4,vf_lr=1e-3):\n",
    "    \"\"\"\n",
    "    Create PPO Graph\n",
    "    \"\"\"\n",
    "    # PPO objectives\n",
    "    ratio = tf.exp(model['logp'] - model['logp_old_ph']) # pi(a|s) / pi_old(a|s)\n",
    "    min_adv = tf.where(model['adv_ph']>0,\n",
    "                       (1+clip_ratio)*model['adv_ph'], (1-clip_ratio)*model['adv_ph'])\n",
    "    pi_loss = -tf.reduce_mean(tf.minimum(ratio * model['adv_ph'], min_adv))\n",
    "    v_loss = tf.reduce_mean((model['ret_ph'] - model['v'])**2)\n",
    "    \n",
    "    # Info (useful to watch during learning)\n",
    "    approx_kl = tf.reduce_mean(model['logp_old_ph'] - model['logp']) # a sample estimate for KL-divergence\n",
    "    approx_ent = tf.reduce_mean(-model['logp']) # a sample estimate for entropy\n",
    "    clipped = tf.logical_or(ratio > (1+clip_ratio), ratio < (1-clip_ratio))\n",
    "    clipfrac = tf.reduce_mean(tf.cast(clipped, tf.float32))\n",
    "    \n",
    "    # Optimizers\n",
    "    train_pi = tf.train.AdamOptimizer(learning_rate=pi_lr).minimize(pi_loss)\n",
    "    train_v = tf.train.AdamOptimizer(learning_rate=vf_lr).minimize(v_loss)\n",
    "    \n",
    "    # Accumulate graph\n",
    "    graph = {'pi_loss':pi_loss,'v_loss':v_loss,'approx_kl':approx_kl,'approx_ent':approx_ent,\n",
    "             'clipfrac':clipfrac,'train_pi':train_pi,'train_v':train_v}\n",
    "    return graph"
   ]
  },
  {
   "cell_type": "code",
   "execution_count": 6,
   "metadata": {},
   "outputs": [],
   "source": [
    "def update_ppo(model,graph,sess,buf,train_pi_iters=100,train_v_iters=100,target_kl=0.01):\n",
    "    \"\"\"\n",
    "    Update PPO\n",
    "    \"\"\"\n",
    "    feeds = {k:v for k,v in zip(model['all_phs'], buf.get())}\n",
    "    pi_l_old, v_l_old, ent = sess.run(\n",
    "        [graph['pi_loss'],graph['v_loss'],graph['approx_ent']],feed_dict=feeds)\n",
    "    # Training\n",
    "    for i in range(train_pi_iters):\n",
    "        _, kl = sess.run([graph['train_pi'],graph['approx_kl']],feed_dict=feeds)\n",
    "        if kl > 1.5 * target_kl:\n",
    "            break\n",
    "    for _ in range(train_v_iters):\n",
    "        sess.run(graph['train_v'],feed_dict=feeds)\n",
    "    # Log changes from update\n",
    "    pi_l_new,v_l_new,kl,cf = sess.run(\n",
    "        [graph['pi_loss'],graph['v_loss'],graph['approx_kl'],graph['clipfrac']],\n",
    "        feed_dict=feeds)"
   ]
  },
  {
   "cell_type": "markdown",
   "metadata": {},
   "source": [
    "### Environment"
   ]
  },
  {
   "cell_type": "code",
   "execution_count": 7,
   "metadata": {},
   "outputs": [],
   "source": [
    "def get_envs():\n",
    "    env_name = 'AntBulletEnv-v0'\n",
    "    env,eval_env = gym.make(env_name),gym.make(env_name)\n",
    "    _ = eval_env.render(mode='human') # enable rendering on test_env\n",
    "    _ = eval_env.reset()\n",
    "    for _ in range(3): # dummy run for proper rendering \n",
    "        a = eval_env.action_space.sample()\n",
    "        o,r,d,_ = eval_env.step(a)\n",
    "        time.sleep(0.01)\n",
    "    return env,eval_env"
   ]
  },
  {
   "cell_type": "code",
   "execution_count": null,
   "metadata": {},
   "outputs": [],
   "source": []
  },
  {
   "cell_type": "code",
   "execution_count": null,
   "metadata": {},
   "outputs": [],
   "source": []
  },
  {
   "cell_type": "code",
   "execution_count": 8,
   "metadata": {},
   "outputs": [],
   "source": [
    "env,eval_env = get_envs()"
   ]
  },
  {
   "cell_type": "code",
   "execution_count": 9,
   "metadata": {},
   "outputs": [],
   "source": [
    "odim = env.observation_space.shape[0]\n",
    "adim = env.action_space.shape[0]"
   ]
  },
  {
   "cell_type": "code",
   "execution_count": null,
   "metadata": {},
   "outputs": [],
   "source": []
  },
  {
   "cell_type": "markdown",
   "metadata": {},
   "source": [
    "### Hyperparameter"
   ]
  },
  {
   "cell_type": "code",
   "execution_count": 10,
   "metadata": {},
   "outputs": [],
   "source": [
    "# Model\n",
    "hdims = [256,256]\n",
    "# Graph\n",
    "clip_ratio = 0.2\n",
    "pi_lr = 3e-4\n",
    "vf_lr = 1e-3\n",
    "# Buffer\n",
    "steps_per_epoch = 5000\n",
    "gamma = 0.99\n",
    "lam = 0.95\n",
    "# Update\n",
    "train_pi_iters = 100\n",
    "train_v_iters = 100\n",
    "target_kl = 0.01\n",
    "epochs = 1000\n",
    "max_ep_len = 1000\n",
    "print_every = 10\n",
    "evaluate_every = 10"
   ]
  },
  {
   "cell_type": "markdown",
   "metadata": {},
   "source": [
    "### Initialize PPO model and buffer"
   ]
  },
  {
   "cell_type": "code",
   "execution_count": 11,
   "metadata": {},
   "outputs": [],
   "source": [
    "model,sess = create_ppo_model(env=env,hdims=hdims)\n",
    "graph = create_ppo_graph(model,clip_ratio=clip_ratio,pi_lr=pi_lr,vf_lr=vf_lr)\n",
    "buf = PPOBuffer(odim=odim,adim=adim,size=steps_per_epoch,gamma=gamma,lam=lam)"
   ]
  },
  {
   "cell_type": "code",
   "execution_count": null,
   "metadata": {},
   "outputs": [],
   "source": []
  },
  {
   "cell_type": "markdown",
   "metadata": {},
   "source": [
    "### Loop"
   ]
  },
  {
   "cell_type": "code",
   "execution_count": null,
   "metadata": {},
   "outputs": [
    {
     "name": "stdout",
     "output_type": "stream",
     "text": [
      "[1/1000]\n",
      "[Eval. start] step:[1/1000][0.0%] #step:[5.0e+03] time:[00:00:17] ram:[18.0%].\n",
      "[Evaluate] ep_ret:[4.0092] ep_len:[20]\n",
      "[10/1000]\n",
      "[Eval. start] step:[10/1000][0.9%] #step:[5.0e+04] time:[00:02:53] ram:[17.9%].\n",
      "[Evaluate] ep_ret:[617.3290] ep_len:[1000]\n",
      "[20/1000]\n",
      "[Eval. start] step:[20/1000][1.9%] #step:[1.0e+05] time:[00:05:47] ram:[17.9%].\n",
      "[Evaluate] ep_ret:[591.0326] ep_len:[1000]\n",
      "[30/1000]\n",
      "[Eval. start] step:[30/1000][2.9%] #step:[1.5e+05] time:[00:08:38] ram:[17.9%].\n",
      "[Evaluate] ep_ret:[646.7772] ep_len:[1000]\n",
      "[40/1000]\n",
      "[Eval. start] step:[40/1000][3.9%] #step:[2.0e+05] time:[00:11:31] ram:[17.9%].\n",
      "[Evaluate] ep_ret:[891.7064] ep_len:[1000]\n"
     ]
    }
   ],
   "source": [
    "sess.run(tf.global_variables_initializer())\n",
    "start_time = time.time()\n",
    "o,r,d,ep_ret,ep_len,n_env_step = env.reset(),0,False,0,0,0\n",
    "# Main loop: collect experience in env and update/log each epoch\n",
    "for epoch in range(epochs):\n",
    "    if (epoch==0) or (((epoch+1)%print_every) == 0):\n",
    "        print (\"[%d/%d]\"%(epoch+1,epochs))\n",
    "    for t in range(steps_per_epoch):\n",
    "        a,v_t,logp_t = sess.run(\n",
    "            model['get_action_ops'],feed_dict={model['o_ph']:o.reshape(1,-1)})\n",
    "\n",
    "        o2, r, d, _ = env.step(a[0])\n",
    "        ep_ret += r\n",
    "        ep_len += 1\n",
    "        n_env_step += 1\n",
    "\n",
    "        # save and log\n",
    "        buf.store(o, a, r, v_t, logp_t)\n",
    "\n",
    "        # Update obs (critical!)\n",
    "        o = o2\n",
    "\n",
    "        terminal = d or (ep_len == max_ep_len)\n",
    "        if terminal or (t==steps_per_epoch-1):\n",
    "            last_val = 0 if d else sess.run(\n",
    "                model['v'],feed_dict={model['o_ph']: o.reshape(1,-1)})\n",
    "            buf.finish_path(last_val)\n",
    "            o, ep_ret, ep_len = env.reset(), 0, 0\n",
    "\n",
    "    # Perform PPO update!\n",
    "    update_ppo(model=model,graph=graph,sess=sess,buf=buf,\n",
    "               train_pi_iters=train_pi_iters,train_v_iters=train_v_iters,\n",
    "               target_kl=target_kl)\n",
    "    \n",
    "    # Evaluate\n",
    "    if (epoch==0) or (((epoch+1)%evaluate_every) == 0):\n",
    "        ram_percent = psutil.virtual_memory().percent # memory usage\n",
    "        print (\"[Eval. start] step:[%d/%d][%.1f%%] #step:[%.1e] time:[%s] ram:[%.1f%%].\"%\n",
    "               (epoch+1,epochs,epoch/epochs*100,\n",
    "                n_env_step,\n",
    "                time.strftime(\"%H:%M:%S\", time.gmtime(time.time()-start_time)),\n",
    "                ram_percent)\n",
    "              )\n",
    "        o,d,ep_ret,ep_len = eval_env.reset(),False,0,0\n",
    "        _ = eval_env.render(mode='human') \n",
    "        while not(d or (ep_len == max_ep_len)):\n",
    "            a = sess.run(model['mu'],feed_dict={model['o_ph']:o.reshape(1,-1)})\n",
    "            o,r,d,_ = eval_env.step(a[0])\n",
    "            _ = eval_env.render(mode='human') \n",
    "            ep_ret += r # compute return \n",
    "            ep_len += 1\n",
    "        print (\"[Evaluate] ep_ret:[%.4f] ep_len:[%d]\"%(ep_ret,ep_len))\n",
    "\n",
    "print (\"Done.\")"
   ]
  },
  {
   "cell_type": "code",
   "execution_count": null,
   "metadata": {},
   "outputs": [],
   "source": []
  },
  {
   "cell_type": "markdown",
   "metadata": {},
   "source": [
    "### Close"
   ]
  },
  {
   "cell_type": "code",
   "execution_count": null,
   "metadata": {},
   "outputs": [],
   "source": [
    "eval_env.close()"
   ]
  },
  {
   "cell_type": "code",
   "execution_count": null,
   "metadata": {},
   "outputs": [],
   "source": []
  }
 ],
 "metadata": {
  "kernelspec": {
   "display_name": "Python 3",
   "language": "python",
   "name": "python3"
  },
  "language_info": {
   "codemirror_mode": {
    "name": "ipython",
    "version": 3
   },
   "file_extension": ".py",
   "mimetype": "text/x-python",
   "name": "python",
   "nbconvert_exporter": "python",
   "pygments_lexer": "ipython3",
   "version": "3.6.8"
  }
 },
 "nbformat": 4,
 "nbformat_minor": 4
}
